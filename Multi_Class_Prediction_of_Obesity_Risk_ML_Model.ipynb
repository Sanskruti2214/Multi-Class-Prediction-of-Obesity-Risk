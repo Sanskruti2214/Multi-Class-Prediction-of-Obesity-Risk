{
  "metadata": {
    "kernelspec": {
      "language": "python",
      "display_name": "Python 3",
      "name": "python3"
    },
    "language_info": {
      "name": "python",
      "version": "3.10.13",
      "mimetype": "text/x-python",
      "codemirror_mode": {
        "name": "ipython",
        "version": 3
      },
      "pygments_lexer": "ipython3",
      "nbconvert_exporter": "python",
      "file_extension": ".py"
    },
    "kaggle": {
      "accelerator": "none",
      "dataSources": [
        {
          "sourceId": 68479,
          "databundleVersionId": 7609535,
          "sourceType": "competition"
        }
      ],
      "dockerImageVersionId": 30646,
      "isInternetEnabled": false,
      "language": "python",
      "sourceType": "notebook",
      "isGpuEnabled": false
    },
    "colab": {
      "name": "Multi-Class Prediction of Obesity Risk ML Model",
      "provenance": []
    }
  },
  "nbformat_minor": 0,
  "nbformat": 4,
  "cells": [
    {
      "source": [
        "\n",
        "# IMPORTANT: RUN THIS CELL IN ORDER TO IMPORT YOUR KAGGLE DATA SOURCES\n",
        "# TO THE CORRECT LOCATION (/kaggle/input) IN YOUR NOTEBOOK,\n",
        "# THEN FEEL FREE TO DELETE THIS CELL.\n",
        "# NOTE: THIS NOTEBOOK ENVIRONMENT DIFFERS FROM KAGGLE'S PYTHON\n",
        "# ENVIRONMENT SO THERE MAY BE MISSING LIBRARIES USED BY YOUR\n",
        "# NOTEBOOK.\n",
        "\n",
        "import os\n",
        "import sys\n",
        "from tempfile import NamedTemporaryFile\n",
        "from urllib.request import urlopen\n",
        "from urllib.parse import unquote, urlparse\n",
        "from urllib.error import HTTPError\n",
        "from zipfile import ZipFile\n",
        "import tarfile\n",
        "import shutil\n",
        "\n",
        "CHUNK_SIZE = 40960\n",
        "DATA_SOURCE_MAPPING = 'playground-series-s4e2:https%3A%2F%2Fstorage.googleapis.com%2Fkaggle-competitions-data%2Fkaggle-v2%2F68479%2F7609535%2Fbundle%2Farchive.zip%3FX-Goog-Algorithm%3DGOOG4-RSA-SHA256%26X-Goog-Credential%3Dgcp-kaggle-com%2540kaggle-161607.iam.gserviceaccount.com%252F20240323%252Fauto%252Fstorage%252Fgoog4_request%26X-Goog-Date%3D20240323T112442Z%26X-Goog-Expires%3D259200%26X-Goog-SignedHeaders%3Dhost%26X-Goog-Signature%3Db03c4765e91abdcd724b1f5b5fed9253bcb092f8fcc40a6da96dc510a8f5272c709b050ac1c3f005bfe522822220819b4cfce30a73f968a1992ab608dfa056bdf73ab6445ddb1bbe42613b004248eef885c92db461c092d9bbc5c12b55232d3fc2e7eb5aef84f3d3781c2f3845395e1125d3a80f22e33af168033552d6453f9546485c0bad6efc85bafb843ff99b52b99c644af1c9bf73f9b88dda07618d297d11a245be19fa4ee30a8c55946b31630c2c68ef9ff719dd8dd633408216b18c142c77e4c02762e3be06cb6c1332d034acbc50a2c7bf5059c62200a7a12c3c6e0e02ed1c854c2488f0fa9c30f3bf680d86187927e5ae2b6709af0b4e449a23f47d'\n",
        "\n",
        "KAGGLE_INPUT_PATH='/kaggle/input'\n",
        "KAGGLE_WORKING_PATH='/kaggle/working'\n",
        "KAGGLE_SYMLINK='kaggle'\n",
        "\n",
        "!umount /kaggle/input/ 2> /dev/null\n",
        "shutil.rmtree('/kaggle/input', ignore_errors=True)\n",
        "os.makedirs(KAGGLE_INPUT_PATH, 0o777, exist_ok=True)\n",
        "os.makedirs(KAGGLE_WORKING_PATH, 0o777, exist_ok=True)\n",
        "\n",
        "try:\n",
        "  os.symlink(KAGGLE_INPUT_PATH, os.path.join(\"..\", 'input'), target_is_directory=True)\n",
        "except FileExistsError:\n",
        "  pass\n",
        "try:\n",
        "  os.symlink(KAGGLE_WORKING_PATH, os.path.join(\"..\", 'working'), target_is_directory=True)\n",
        "except FileExistsError:\n",
        "  pass\n",
        "\n",
        "for data_source_mapping in DATA_SOURCE_MAPPING.split(','):\n",
        "    directory, download_url_encoded = data_source_mapping.split(':')\n",
        "    download_url = unquote(download_url_encoded)\n",
        "    filename = urlparse(download_url).path\n",
        "    destination_path = os.path.join(KAGGLE_INPUT_PATH, directory)\n",
        "    try:\n",
        "        with urlopen(download_url) as fileres, NamedTemporaryFile() as tfile:\n",
        "            total_length = fileres.headers['content-length']\n",
        "            print(f'Downloading {directory}, {total_length} bytes compressed')\n",
        "            dl = 0\n",
        "            data = fileres.read(CHUNK_SIZE)\n",
        "            while len(data) > 0:\n",
        "                dl += len(data)\n",
        "                tfile.write(data)\n",
        "                done = int(50 * dl / int(total_length))\n",
        "                sys.stdout.write(f\"\\r[{'=' * done}{' ' * (50-done)}] {dl} bytes downloaded\")\n",
        "                sys.stdout.flush()\n",
        "                data = fileres.read(CHUNK_SIZE)\n",
        "            if filename.endswith('.zip'):\n",
        "              with ZipFile(tfile) as zfile:\n",
        "                zfile.extractall(destination_path)\n",
        "            else:\n",
        "              with tarfile.open(tfile.name) as tarfile:\n",
        "                tarfile.extractall(destination_path)\n",
        "            print(f'\\nDownloaded and uncompressed: {directory}')\n",
        "    except HTTPError as e:\n",
        "        print(f'Failed to load (likely expired) {download_url} to path {destination_path}')\n",
        "        continue\n",
        "    except OSError as e:\n",
        "        print(f'Failed to load {download_url} to path {destination_path}')\n",
        "        continue\n",
        "\n",
        "print('Data source import complete.')\n"
      ],
      "metadata": {
        "id": "EVeRX_yHDm0r"
      },
      "cell_type": "code",
      "outputs": [],
      "execution_count": null
    },
    {
      "cell_type": "code",
      "source": [
        "import pandas as pd\n",
        "import numpy as np"
      ],
      "metadata": {
        "execution": {
          "iopub.status.busy": "2024-03-23T10:24:35.741269Z",
          "iopub.execute_input": "2024-03-23T10:24:35.741717Z",
          "iopub.status.idle": "2024-03-23T10:24:36.215711Z",
          "shell.execute_reply.started": "2024-03-23T10:24:35.741684Z",
          "shell.execute_reply": "2024-03-23T10:24:36.214143Z"
        },
        "trusted": true,
        "id": "7Ounj3uGDm02"
      },
      "execution_count": null,
      "outputs": []
    },
    {
      "cell_type": "markdown",
      "source": [
        "Loading dataset"
      ],
      "metadata": {
        "id": "9geIW8k3Dm03"
      }
    },
    {
      "cell_type": "code",
      "source": [
        "df=pd.read_csv(\"/kaggle/input/playground-series-s4e2/train.csv\")\n",
        "df.head(30)"
      ],
      "metadata": {
        "execution": {
          "iopub.status.busy": "2024-03-23T10:24:44.450944Z",
          "iopub.execute_input": "2024-03-23T10:24:44.451465Z",
          "iopub.status.idle": "2024-03-23T10:24:44.62498Z",
          "shell.execute_reply.started": "2024-03-23T10:24:44.451431Z",
          "shell.execute_reply": "2024-03-23T10:24:44.623816Z"
        },
        "trusted": true,
        "id": "VcGUYepwDm07",
        "outputId": "900c3789-96f5-4ee1-fc5e-3c4cc19ffe24"
      },
      "execution_count": null,
      "outputs": [
        {
          "execution_count": 3,
          "output_type": "execute_result",
          "data": {
            "text/plain": "    id  Gender        Age    Height      Weight  \\\n0    0    Male  24.443011  1.699998   81.669950   \n1    1  Female  18.000000  1.560000   57.000000   \n2    2  Female  18.000000  1.711460   50.165754   \n3    3  Female  20.952737  1.710730  131.274851   \n4    4    Male  31.641081  1.914186   93.798055   \n5    5    Male  18.128249  1.748524   51.552595   \n6    6    Male  29.883021  1.754711  112.725005   \n7    7    Male  29.891473  1.750150  118.206565   \n8    8    Male  17.000000  1.700000   70.000000   \n9    9  Female  26.000000  1.638836  111.275646   \n10  10  Female  20.000000  1.650000   65.000000   \n11  11    Male  22.000000  1.700000   70.000000   \n12  12    Male  18.000000  1.811189  108.251044   \n13  13  Female  21.412538  1.729045  131.529267   \n14  14  Female  20.000000  1.570000   49.000000   \n15  15    Male  28.377958  1.706525  102.592171   \n16  16  Female  34.000000  1.700000   80.000000   \n17  17  Female  18.000000  1.560000   50.000000   \n18  18    Male  22.000000  1.700000   80.000000   \n19  19    Male  25.492855  1.771817  114.470482   \n20  20  Female  22.000000  1.670000   80.000000   \n21  21  Female  19.000000  1.650000   64.000000   \n22  22  Female  25.918524  1.663341  112.579220   \n23  23  Female  29.740496  1.502609   77.929204   \n24  24    Male  18.000000  1.753321   52.058335   \n25  25    Male  41.318302  1.853223   96.078462   \n26  26  Female  26.000000  1.611462  111.950113   \n27  27  Female  26.000000  1.682253  111.216192   \n28  28  Female  20.000000  1.550000   45.000000   \n29  29  Female  23.000000  1.550000   80.000000   \n\n   family_history_with_overweight FAVC      FCVC       NCP        CAEC SMOKE  \\\n0                             yes  yes  2.000000  2.983297   Sometimes    no   \n1                             yes  yes  2.000000  3.000000  Frequently    no   \n2                             yes  yes  1.880534  1.411685   Sometimes    no   \n3                             yes  yes  3.000000  3.000000   Sometimes    no   \n4                             yes  yes  2.679664  1.971472   Sometimes    no   \n5                             yes  yes  2.919751  3.000000   Sometimes    no   \n6                             yes  yes  1.991240  3.000000   Sometimes    no   \n7                             yes  yes  1.397468  3.000000   Sometimes    no   \n8                              no  yes  2.000000  3.000000   Sometimes    no   \n9                             yes  yes  3.000000  3.000000   Sometimes    no   \n10                            yes  yes  3.000000  3.000000   Sometimes    no   \n11                            yes   no  2.000000  3.000000          no    no   \n12                            yes  yes  2.000000  2.164839   Sometimes    no   \n13                            yes  yes  3.000000  3.000000   Sometimes    no   \n14                             no   no  2.000000  1.000000   Sometimes    no   \n15                            yes  yes  2.636719  3.000000   Sometimes    no   \n16                            yes   no  3.000000  3.000000      Always    no   \n17                             no  yes  3.000000  3.000000   Sometimes    no   \n18                            yes  yes  1.000000  3.000000   Sometimes    no   \n19                            yes  yes  1.392665  3.000000   Sometimes    no   \n20                            yes  yes  2.000000  1.000000   Sometimes    no   \n21                            yes  yes  2.000000  3.000000   Sometimes    no   \n22                            yes  yes  3.000000  3.000000   Sometimes    no   \n23                            yes  yes  2.000000  1.000000   Sometimes    no   \n24                            yes  yes  2.000000  3.000000   Sometimes    no   \n25                            yes  yes  2.000000  3.000000   Sometimes    no   \n26                            yes  yes  3.000000  3.000000   Sometimes    no   \n27                            yes  yes  3.000000  3.000000   Sometimes    no   \n28                             no  yes  3.000000  3.000000   Sometimes    no   \n29                            yes   no  2.000000  3.000000   Sometimes    no   \n\n        CH2O  SCC       FAF       TUE        CALC                 MTRANS  \\\n0   2.763573   no  0.000000  0.976473   Sometimes  Public_Transportation   \n1   2.000000   no  1.000000  1.000000          no             Automobile   \n2   1.910378   no  0.866045  1.673584          no  Public_Transportation   \n3   1.674061   no  1.467863  0.780199   Sometimes  Public_Transportation   \n4   1.979848   no  1.967973  0.931721   Sometimes  Public_Transportation   \n5   2.137550   no  1.930033  1.000000   Sometimes  Public_Transportation   \n6   2.000000   no  0.000000  0.696948   Sometimes             Automobile   \n7   2.000000   no  0.598655  0.000000   Sometimes             Automobile   \n8   3.000000  yes  1.000000  1.000000          no  Public_Transportation   \n9   2.632253   no  0.000000  0.218645   Sometimes  Public_Transportation   \n10  3.000000   no  1.000000  0.000000   Sometimes  Public_Transportation   \n11  2.000000   no  2.000000  1.000000          no                Walking   \n12  2.530157   no  1.000000  0.553311          no  Public_Transportation   \n13  1.959531   no  1.425712  0.947884   Sometimes  Public_Transportation   \n14  1.000000   no  3.000000  2.000000          no                Walking   \n15  1.000000   no  1.995582  0.930836   Sometimes  Public_Transportation   \n16  2.000000   no  0.000000  0.000000          no             Automobile   \n17  1.000000   no  1.000000  0.000000   Sometimes  Public_Transportation   \n18  2.000000   no  0.000000  1.000000          no  Public_Transportation   \n19  1.238057   no  1.097905  0.619012   Sometimes  Public_Transportation   \n20  2.000000   no  2.000000  1.000000   Sometimes  Public_Transportation   \n21  1.000000   no  1.000000  0.000000   Sometimes  Public_Transportation   \n22  2.724099   no  0.000000  0.081156   Sometimes  Public_Transportation   \n23  1.000000   no  0.000000  0.000000   Sometimes             Automobile   \n24  2.072194   no  0.680464  1.258881          no  Public_Transportation   \n25  3.000000   no  2.000000  0.000000  Frequently             Automobile   \n26  2.609052   no  0.000000  0.079334   Sometimes  Public_Transportation   \n27  2.487070   no  0.000000  0.250502   Sometimes  Public_Transportation   \n28  2.000000   no  2.000000  0.000000          no                Walking   \n29  2.000000   no  1.000000  0.000000          no  Public_Transportation   \n\n             NObeyesdad  \n0   Overweight_Level_II  \n1         Normal_Weight  \n2   Insufficient_Weight  \n3      Obesity_Type_III  \n4   Overweight_Level_II  \n5   Insufficient_Weight  \n6       Obesity_Type_II  \n7       Obesity_Type_II  \n8    Overweight_Level_I  \n9      Obesity_Type_III  \n10   Overweight_Level_I  \n11        Normal_Weight  \n12       Obesity_Type_I  \n13     Obesity_Type_III  \n14        Normal_Weight  \n15      Obesity_Type_II  \n16  Overweight_Level_II  \n17        Normal_Weight  \n18  Overweight_Level_II  \n19      Obesity_Type_II  \n20  Overweight_Level_II  \n21        Normal_Weight  \n22     Obesity_Type_III  \n23       Obesity_Type_I  \n24  Insufficient_Weight  \n25       Obesity_Type_I  \n26     Obesity_Type_III  \n27     Obesity_Type_III  \n28        Normal_Weight  \n29  Overweight_Level_II  ",
            "text/html": "<div>\n<style scoped>\n    .dataframe tbody tr th:only-of-type {\n        vertical-align: middle;\n    }\n\n    .dataframe tbody tr th {\n        vertical-align: top;\n    }\n\n    .dataframe thead th {\n        text-align: right;\n    }\n</style>\n<table border=\"1\" class=\"dataframe\">\n  <thead>\n    <tr style=\"text-align: right;\">\n      <th></th>\n      <th>id</th>\n      <th>Gender</th>\n      <th>Age</th>\n      <th>Height</th>\n      <th>Weight</th>\n      <th>family_history_with_overweight</th>\n      <th>FAVC</th>\n      <th>FCVC</th>\n      <th>NCP</th>\n      <th>CAEC</th>\n      <th>SMOKE</th>\n      <th>CH2O</th>\n      <th>SCC</th>\n      <th>FAF</th>\n      <th>TUE</th>\n      <th>CALC</th>\n      <th>MTRANS</th>\n      <th>NObeyesdad</th>\n    </tr>\n  </thead>\n  <tbody>\n    <tr>\n      <th>0</th>\n      <td>0</td>\n      <td>Male</td>\n      <td>24.443011</td>\n      <td>1.699998</td>\n      <td>81.669950</td>\n      <td>yes</td>\n      <td>yes</td>\n      <td>2.000000</td>\n      <td>2.983297</td>\n      <td>Sometimes</td>\n      <td>no</td>\n      <td>2.763573</td>\n      <td>no</td>\n      <td>0.000000</td>\n      <td>0.976473</td>\n      <td>Sometimes</td>\n      <td>Public_Transportation</td>\n      <td>Overweight_Level_II</td>\n    </tr>\n    <tr>\n      <th>1</th>\n      <td>1</td>\n      <td>Female</td>\n      <td>18.000000</td>\n      <td>1.560000</td>\n      <td>57.000000</td>\n      <td>yes</td>\n      <td>yes</td>\n      <td>2.000000</td>\n      <td>3.000000</td>\n      <td>Frequently</td>\n      <td>no</td>\n      <td>2.000000</td>\n      <td>no</td>\n      <td>1.000000</td>\n      <td>1.000000</td>\n      <td>no</td>\n      <td>Automobile</td>\n      <td>Normal_Weight</td>\n    </tr>\n    <tr>\n      <th>2</th>\n      <td>2</td>\n      <td>Female</td>\n      <td>18.000000</td>\n      <td>1.711460</td>\n      <td>50.165754</td>\n      <td>yes</td>\n      <td>yes</td>\n      <td>1.880534</td>\n      <td>1.411685</td>\n      <td>Sometimes</td>\n      <td>no</td>\n      <td>1.910378</td>\n      <td>no</td>\n      <td>0.866045</td>\n      <td>1.673584</td>\n      <td>no</td>\n      <td>Public_Transportation</td>\n      <td>Insufficient_Weight</td>\n    </tr>\n    <tr>\n      <th>3</th>\n      <td>3</td>\n      <td>Female</td>\n      <td>20.952737</td>\n      <td>1.710730</td>\n      <td>131.274851</td>\n      <td>yes</td>\n      <td>yes</td>\n      <td>3.000000</td>\n      <td>3.000000</td>\n      <td>Sometimes</td>\n      <td>no</td>\n      <td>1.674061</td>\n      <td>no</td>\n      <td>1.467863</td>\n      <td>0.780199</td>\n      <td>Sometimes</td>\n      <td>Public_Transportation</td>\n      <td>Obesity_Type_III</td>\n    </tr>\n    <tr>\n      <th>4</th>\n      <td>4</td>\n      <td>Male</td>\n      <td>31.641081</td>\n      <td>1.914186</td>\n      <td>93.798055</td>\n      <td>yes</td>\n      <td>yes</td>\n      <td>2.679664</td>\n      <td>1.971472</td>\n      <td>Sometimes</td>\n      <td>no</td>\n      <td>1.979848</td>\n      <td>no</td>\n      <td>1.967973</td>\n      <td>0.931721</td>\n      <td>Sometimes</td>\n      <td>Public_Transportation</td>\n      <td>Overweight_Level_II</td>\n    </tr>\n    <tr>\n      <th>5</th>\n      <td>5</td>\n      <td>Male</td>\n      <td>18.128249</td>\n      <td>1.748524</td>\n      <td>51.552595</td>\n      <td>yes</td>\n      <td>yes</td>\n      <td>2.919751</td>\n      <td>3.000000</td>\n      <td>Sometimes</td>\n      <td>no</td>\n      <td>2.137550</td>\n      <td>no</td>\n      <td>1.930033</td>\n      <td>1.000000</td>\n      <td>Sometimes</td>\n      <td>Public_Transportation</td>\n      <td>Insufficient_Weight</td>\n    </tr>\n    <tr>\n      <th>6</th>\n      <td>6</td>\n      <td>Male</td>\n      <td>29.883021</td>\n      <td>1.754711</td>\n      <td>112.725005</td>\n      <td>yes</td>\n      <td>yes</td>\n      <td>1.991240</td>\n      <td>3.000000</td>\n      <td>Sometimes</td>\n      <td>no</td>\n      <td>2.000000</td>\n      <td>no</td>\n      <td>0.000000</td>\n      <td>0.696948</td>\n      <td>Sometimes</td>\n      <td>Automobile</td>\n      <td>Obesity_Type_II</td>\n    </tr>\n    <tr>\n      <th>7</th>\n      <td>7</td>\n      <td>Male</td>\n      <td>29.891473</td>\n      <td>1.750150</td>\n      <td>118.206565</td>\n      <td>yes</td>\n      <td>yes</td>\n      <td>1.397468</td>\n      <td>3.000000</td>\n      <td>Sometimes</td>\n      <td>no</td>\n      <td>2.000000</td>\n      <td>no</td>\n      <td>0.598655</td>\n      <td>0.000000</td>\n      <td>Sometimes</td>\n      <td>Automobile</td>\n      <td>Obesity_Type_II</td>\n    </tr>\n    <tr>\n      <th>8</th>\n      <td>8</td>\n      <td>Male</td>\n      <td>17.000000</td>\n      <td>1.700000</td>\n      <td>70.000000</td>\n      <td>no</td>\n      <td>yes</td>\n      <td>2.000000</td>\n      <td>3.000000</td>\n      <td>Sometimes</td>\n      <td>no</td>\n      <td>3.000000</td>\n      <td>yes</td>\n      <td>1.000000</td>\n      <td>1.000000</td>\n      <td>no</td>\n      <td>Public_Transportation</td>\n      <td>Overweight_Level_I</td>\n    </tr>\n    <tr>\n      <th>9</th>\n      <td>9</td>\n      <td>Female</td>\n      <td>26.000000</td>\n      <td>1.638836</td>\n      <td>111.275646</td>\n      <td>yes</td>\n      <td>yes</td>\n      <td>3.000000</td>\n      <td>3.000000</td>\n      <td>Sometimes</td>\n      <td>no</td>\n      <td>2.632253</td>\n      <td>no</td>\n      <td>0.000000</td>\n      <td>0.218645</td>\n      <td>Sometimes</td>\n      <td>Public_Transportation</td>\n      <td>Obesity_Type_III</td>\n    </tr>\n    <tr>\n      <th>10</th>\n      <td>10</td>\n      <td>Female</td>\n      <td>20.000000</td>\n      <td>1.650000</td>\n      <td>65.000000</td>\n      <td>yes</td>\n      <td>yes</td>\n      <td>3.000000</td>\n      <td>3.000000</td>\n      <td>Sometimes</td>\n      <td>no</td>\n      <td>3.000000</td>\n      <td>no</td>\n      <td>1.000000</td>\n      <td>0.000000</td>\n      <td>Sometimes</td>\n      <td>Public_Transportation</td>\n      <td>Overweight_Level_I</td>\n    </tr>\n    <tr>\n      <th>11</th>\n      <td>11</td>\n      <td>Male</td>\n      <td>22.000000</td>\n      <td>1.700000</td>\n      <td>70.000000</td>\n      <td>yes</td>\n      <td>no</td>\n      <td>2.000000</td>\n      <td>3.000000</td>\n      <td>no</td>\n      <td>no</td>\n      <td>2.000000</td>\n      <td>no</td>\n      <td>2.000000</td>\n      <td>1.000000</td>\n      <td>no</td>\n      <td>Walking</td>\n      <td>Normal_Weight</td>\n    </tr>\n    <tr>\n      <th>12</th>\n      <td>12</td>\n      <td>Male</td>\n      <td>18.000000</td>\n      <td>1.811189</td>\n      <td>108.251044</td>\n      <td>yes</td>\n      <td>yes</td>\n      <td>2.000000</td>\n      <td>2.164839</td>\n      <td>Sometimes</td>\n      <td>no</td>\n      <td>2.530157</td>\n      <td>no</td>\n      <td>1.000000</td>\n      <td>0.553311</td>\n      <td>no</td>\n      <td>Public_Transportation</td>\n      <td>Obesity_Type_I</td>\n    </tr>\n    <tr>\n      <th>13</th>\n      <td>13</td>\n      <td>Female</td>\n      <td>21.412538</td>\n      <td>1.729045</td>\n      <td>131.529267</td>\n      <td>yes</td>\n      <td>yes</td>\n      <td>3.000000</td>\n      <td>3.000000</td>\n      <td>Sometimes</td>\n      <td>no</td>\n      <td>1.959531</td>\n      <td>no</td>\n      <td>1.425712</td>\n      <td>0.947884</td>\n      <td>Sometimes</td>\n      <td>Public_Transportation</td>\n      <td>Obesity_Type_III</td>\n    </tr>\n    <tr>\n      <th>14</th>\n      <td>14</td>\n      <td>Female</td>\n      <td>20.000000</td>\n      <td>1.570000</td>\n      <td>49.000000</td>\n      <td>no</td>\n      <td>no</td>\n      <td>2.000000</td>\n      <td>1.000000</td>\n      <td>Sometimes</td>\n      <td>no</td>\n      <td>1.000000</td>\n      <td>no</td>\n      <td>3.000000</td>\n      <td>2.000000</td>\n      <td>no</td>\n      <td>Walking</td>\n      <td>Normal_Weight</td>\n    </tr>\n    <tr>\n      <th>15</th>\n      <td>15</td>\n      <td>Male</td>\n      <td>28.377958</td>\n      <td>1.706525</td>\n      <td>102.592171</td>\n      <td>yes</td>\n      <td>yes</td>\n      <td>2.636719</td>\n      <td>3.000000</td>\n      <td>Sometimes</td>\n      <td>no</td>\n      <td>1.000000</td>\n      <td>no</td>\n      <td>1.995582</td>\n      <td>0.930836</td>\n      <td>Sometimes</td>\n      <td>Public_Transportation</td>\n      <td>Obesity_Type_II</td>\n    </tr>\n    <tr>\n      <th>16</th>\n      <td>16</td>\n      <td>Female</td>\n      <td>34.000000</td>\n      <td>1.700000</td>\n      <td>80.000000</td>\n      <td>yes</td>\n      <td>no</td>\n      <td>3.000000</td>\n      <td>3.000000</td>\n      <td>Always</td>\n      <td>no</td>\n      <td>2.000000</td>\n      <td>no</td>\n      <td>0.000000</td>\n      <td>0.000000</td>\n      <td>no</td>\n      <td>Automobile</td>\n      <td>Overweight_Level_II</td>\n    </tr>\n    <tr>\n      <th>17</th>\n      <td>17</td>\n      <td>Female</td>\n      <td>18.000000</td>\n      <td>1.560000</td>\n      <td>50.000000</td>\n      <td>no</td>\n      <td>yes</td>\n      <td>3.000000</td>\n      <td>3.000000</td>\n      <td>Sometimes</td>\n      <td>no</td>\n      <td>1.000000</td>\n      <td>no</td>\n      <td>1.000000</td>\n      <td>0.000000</td>\n      <td>Sometimes</td>\n      <td>Public_Transportation</td>\n      <td>Normal_Weight</td>\n    </tr>\n    <tr>\n      <th>18</th>\n      <td>18</td>\n      <td>Male</td>\n      <td>22.000000</td>\n      <td>1.700000</td>\n      <td>80.000000</td>\n      <td>yes</td>\n      <td>yes</td>\n      <td>1.000000</td>\n      <td>3.000000</td>\n      <td>Sometimes</td>\n      <td>no</td>\n      <td>2.000000</td>\n      <td>no</td>\n      <td>0.000000</td>\n      <td>1.000000</td>\n      <td>no</td>\n      <td>Public_Transportation</td>\n      <td>Overweight_Level_II</td>\n    </tr>\n    <tr>\n      <th>19</th>\n      <td>19</td>\n      <td>Male</td>\n      <td>25.492855</td>\n      <td>1.771817</td>\n      <td>114.470482</td>\n      <td>yes</td>\n      <td>yes</td>\n      <td>1.392665</td>\n      <td>3.000000</td>\n      <td>Sometimes</td>\n      <td>no</td>\n      <td>1.238057</td>\n      <td>no</td>\n      <td>1.097905</td>\n      <td>0.619012</td>\n      <td>Sometimes</td>\n      <td>Public_Transportation</td>\n      <td>Obesity_Type_II</td>\n    </tr>\n    <tr>\n      <th>20</th>\n      <td>20</td>\n      <td>Female</td>\n      <td>22.000000</td>\n      <td>1.670000</td>\n      <td>80.000000</td>\n      <td>yes</td>\n      <td>yes</td>\n      <td>2.000000</td>\n      <td>1.000000</td>\n      <td>Sometimes</td>\n      <td>no</td>\n      <td>2.000000</td>\n      <td>no</td>\n      <td>2.000000</td>\n      <td>1.000000</td>\n      <td>Sometimes</td>\n      <td>Public_Transportation</td>\n      <td>Overweight_Level_II</td>\n    </tr>\n    <tr>\n      <th>21</th>\n      <td>21</td>\n      <td>Female</td>\n      <td>19.000000</td>\n      <td>1.650000</td>\n      <td>64.000000</td>\n      <td>yes</td>\n      <td>yes</td>\n      <td>2.000000</td>\n      <td>3.000000</td>\n      <td>Sometimes</td>\n      <td>no</td>\n      <td>1.000000</td>\n      <td>no</td>\n      <td>1.000000</td>\n      <td>0.000000</td>\n      <td>Sometimes</td>\n      <td>Public_Transportation</td>\n      <td>Normal_Weight</td>\n    </tr>\n    <tr>\n      <th>22</th>\n      <td>22</td>\n      <td>Female</td>\n      <td>25.918524</td>\n      <td>1.663341</td>\n      <td>112.579220</td>\n      <td>yes</td>\n      <td>yes</td>\n      <td>3.000000</td>\n      <td>3.000000</td>\n      <td>Sometimes</td>\n      <td>no</td>\n      <td>2.724099</td>\n      <td>no</td>\n      <td>0.000000</td>\n      <td>0.081156</td>\n      <td>Sometimes</td>\n      <td>Public_Transportation</td>\n      <td>Obesity_Type_III</td>\n    </tr>\n    <tr>\n      <th>23</th>\n      <td>23</td>\n      <td>Female</td>\n      <td>29.740496</td>\n      <td>1.502609</td>\n      <td>77.929204</td>\n      <td>yes</td>\n      <td>yes</td>\n      <td>2.000000</td>\n      <td>1.000000</td>\n      <td>Sometimes</td>\n      <td>no</td>\n      <td>1.000000</td>\n      <td>no</td>\n      <td>0.000000</td>\n      <td>0.000000</td>\n      <td>Sometimes</td>\n      <td>Automobile</td>\n      <td>Obesity_Type_I</td>\n    </tr>\n    <tr>\n      <th>24</th>\n      <td>24</td>\n      <td>Male</td>\n      <td>18.000000</td>\n      <td>1.753321</td>\n      <td>52.058335</td>\n      <td>yes</td>\n      <td>yes</td>\n      <td>2.000000</td>\n      <td>3.000000</td>\n      <td>Sometimes</td>\n      <td>no</td>\n      <td>2.072194</td>\n      <td>no</td>\n      <td>0.680464</td>\n      <td>1.258881</td>\n      <td>no</td>\n      <td>Public_Transportation</td>\n      <td>Insufficient_Weight</td>\n    </tr>\n    <tr>\n      <th>25</th>\n      <td>25</td>\n      <td>Male</td>\n      <td>41.318302</td>\n      <td>1.853223</td>\n      <td>96.078462</td>\n      <td>yes</td>\n      <td>yes</td>\n      <td>2.000000</td>\n      <td>3.000000</td>\n      <td>Sometimes</td>\n      <td>no</td>\n      <td>3.000000</td>\n      <td>no</td>\n      <td>2.000000</td>\n      <td>0.000000</td>\n      <td>Frequently</td>\n      <td>Automobile</td>\n      <td>Obesity_Type_I</td>\n    </tr>\n    <tr>\n      <th>26</th>\n      <td>26</td>\n      <td>Female</td>\n      <td>26.000000</td>\n      <td>1.611462</td>\n      <td>111.950113</td>\n      <td>yes</td>\n      <td>yes</td>\n      <td>3.000000</td>\n      <td>3.000000</td>\n      <td>Sometimes</td>\n      <td>no</td>\n      <td>2.609052</td>\n      <td>no</td>\n      <td>0.000000</td>\n      <td>0.079334</td>\n      <td>Sometimes</td>\n      <td>Public_Transportation</td>\n      <td>Obesity_Type_III</td>\n    </tr>\n    <tr>\n      <th>27</th>\n      <td>27</td>\n      <td>Female</td>\n      <td>26.000000</td>\n      <td>1.682253</td>\n      <td>111.216192</td>\n      <td>yes</td>\n      <td>yes</td>\n      <td>3.000000</td>\n      <td>3.000000</td>\n      <td>Sometimes</td>\n      <td>no</td>\n      <td>2.487070</td>\n      <td>no</td>\n      <td>0.000000</td>\n      <td>0.250502</td>\n      <td>Sometimes</td>\n      <td>Public_Transportation</td>\n      <td>Obesity_Type_III</td>\n    </tr>\n    <tr>\n      <th>28</th>\n      <td>28</td>\n      <td>Female</td>\n      <td>20.000000</td>\n      <td>1.550000</td>\n      <td>45.000000</td>\n      <td>no</td>\n      <td>yes</td>\n      <td>3.000000</td>\n      <td>3.000000</td>\n      <td>Sometimes</td>\n      <td>no</td>\n      <td>2.000000</td>\n      <td>no</td>\n      <td>2.000000</td>\n      <td>0.000000</td>\n      <td>no</td>\n      <td>Walking</td>\n      <td>Normal_Weight</td>\n    </tr>\n    <tr>\n      <th>29</th>\n      <td>29</td>\n      <td>Female</td>\n      <td>23.000000</td>\n      <td>1.550000</td>\n      <td>80.000000</td>\n      <td>yes</td>\n      <td>no</td>\n      <td>2.000000</td>\n      <td>3.000000</td>\n      <td>Sometimes</td>\n      <td>no</td>\n      <td>2.000000</td>\n      <td>no</td>\n      <td>1.000000</td>\n      <td>0.000000</td>\n      <td>no</td>\n      <td>Public_Transportation</td>\n      <td>Overweight_Level_II</td>\n    </tr>\n  </tbody>\n</table>\n</div>"
          },
          "metadata": {}
        }
      ]
    },
    {
      "cell_type": "code",
      "source": [
        "df.dtypes"
      ],
      "metadata": {
        "execution": {
          "iopub.status.busy": "2024-03-23T10:24:49.178973Z",
          "iopub.execute_input": "2024-03-23T10:24:49.17937Z",
          "iopub.status.idle": "2024-03-23T10:24:49.189003Z",
          "shell.execute_reply.started": "2024-03-23T10:24:49.179339Z",
          "shell.execute_reply": "2024-03-23T10:24:49.187817Z"
        },
        "trusted": true,
        "id": "03EIEXtkDm0-",
        "outputId": "17570dbf-8e29-457c-f063-124706edf053"
      },
      "execution_count": null,
      "outputs": [
        {
          "execution_count": 4,
          "output_type": "execute_result",
          "data": {
            "text/plain": "id                                  int64\nGender                             object\nAge                               float64\nHeight                            float64\nWeight                            float64\nfamily_history_with_overweight     object\nFAVC                               object\nFCVC                              float64\nNCP                               float64\nCAEC                               object\nSMOKE                              object\nCH2O                              float64\nSCC                                object\nFAF                               float64\nTUE                               float64\nCALC                               object\nMTRANS                             object\nNObeyesdad                         object\ndtype: object"
          },
          "metadata": {}
        }
      ]
    },
    {
      "cell_type": "code",
      "source": [
        "encoded_columns = pd.get_dummies(df[['Gender','family_history_with_overweight','FAVC','CAEC','SMOKE','SCC','CALC','MTRANS']],dtype=float)\n",
        "df.drop(['id','Gender','family_history_with_overweight','FAVC','CAEC','SMOKE','SCC','CALC','MTRANS'], axis=1, inplace=True)\n",
        "df = pd.concat([df, encoded_columns], axis=1)"
      ],
      "metadata": {
        "execution": {
          "iopub.status.busy": "2024-03-23T10:24:52.660316Z",
          "iopub.execute_input": "2024-03-23T10:24:52.660757Z",
          "iopub.status.idle": "2024-03-23T10:24:52.735962Z",
          "shell.execute_reply.started": "2024-03-23T10:24:52.660724Z",
          "shell.execute_reply": "2024-03-23T10:24:52.734368Z"
        },
        "trusted": true,
        "id": "RxfT1zh0Dm1A"
      },
      "execution_count": null,
      "outputs": []
    },
    {
      "cell_type": "code",
      "source": [
        "df.head()"
      ],
      "metadata": {
        "execution": {
          "iopub.status.busy": "2024-03-23T10:24:56.505436Z",
          "iopub.execute_input": "2024-03-23T10:24:56.505893Z",
          "iopub.status.idle": "2024-03-23T10:24:56.546296Z",
          "shell.execute_reply.started": "2024-03-23T10:24:56.505855Z",
          "shell.execute_reply": "2024-03-23T10:24:56.545114Z"
        },
        "trusted": true,
        "id": "n2Yrt2acDm1B",
        "outputId": "c6b68a27-e727-47e4-b731-28fe0ca4a657"
      },
      "execution_count": null,
      "outputs": [
        {
          "execution_count": 6,
          "output_type": "execute_result",
          "data": {
            "text/plain": "         Age    Height      Weight      FCVC       NCP      CH2O       FAF  \\\n0  24.443011  1.699998   81.669950  2.000000  2.983297  2.763573  0.000000   \n1  18.000000  1.560000   57.000000  2.000000  3.000000  2.000000  1.000000   \n2  18.000000  1.711460   50.165754  1.880534  1.411685  1.910378  0.866045   \n3  20.952737  1.710730  131.274851  3.000000  3.000000  1.674061  1.467863   \n4  31.641081  1.914186   93.798055  2.679664  1.971472  1.979848  1.967973   \n\n        TUE           NObeyesdad  Gender_Female  ...  SCC_no  SCC_yes  \\\n0  0.976473  Overweight_Level_II            0.0  ...     1.0      0.0   \n1  1.000000        Normal_Weight            1.0  ...     1.0      0.0   \n2  1.673584  Insufficient_Weight            1.0  ...     1.0      0.0   \n3  0.780199     Obesity_Type_III            1.0  ...     1.0      0.0   \n4  0.931721  Overweight_Level_II            0.0  ...     1.0      0.0   \n\n   CALC_Frequently  CALC_Sometimes  CALC_no  MTRANS_Automobile  MTRANS_Bike  \\\n0              0.0             1.0      0.0                0.0          0.0   \n1              0.0             0.0      1.0                1.0          0.0   \n2              0.0             0.0      1.0                0.0          0.0   \n3              0.0             1.0      0.0                0.0          0.0   \n4              0.0             1.0      0.0                0.0          0.0   \n\n   MTRANS_Motorbike  MTRANS_Public_Transportation  MTRANS_Walking  \n0               0.0                           1.0             0.0  \n1               0.0                           0.0             0.0  \n2               0.0                           1.0             0.0  \n3               0.0                           1.0             0.0  \n4               0.0                           1.0             0.0  \n\n[5 rows x 31 columns]",
            "text/html": "<div>\n<style scoped>\n    .dataframe tbody tr th:only-of-type {\n        vertical-align: middle;\n    }\n\n    .dataframe tbody tr th {\n        vertical-align: top;\n    }\n\n    .dataframe thead th {\n        text-align: right;\n    }\n</style>\n<table border=\"1\" class=\"dataframe\">\n  <thead>\n    <tr style=\"text-align: right;\">\n      <th></th>\n      <th>Age</th>\n      <th>Height</th>\n      <th>Weight</th>\n      <th>FCVC</th>\n      <th>NCP</th>\n      <th>CH2O</th>\n      <th>FAF</th>\n      <th>TUE</th>\n      <th>NObeyesdad</th>\n      <th>Gender_Female</th>\n      <th>...</th>\n      <th>SCC_no</th>\n      <th>SCC_yes</th>\n      <th>CALC_Frequently</th>\n      <th>CALC_Sometimes</th>\n      <th>CALC_no</th>\n      <th>MTRANS_Automobile</th>\n      <th>MTRANS_Bike</th>\n      <th>MTRANS_Motorbike</th>\n      <th>MTRANS_Public_Transportation</th>\n      <th>MTRANS_Walking</th>\n    </tr>\n  </thead>\n  <tbody>\n    <tr>\n      <th>0</th>\n      <td>24.443011</td>\n      <td>1.699998</td>\n      <td>81.669950</td>\n      <td>2.000000</td>\n      <td>2.983297</td>\n      <td>2.763573</td>\n      <td>0.000000</td>\n      <td>0.976473</td>\n      <td>Overweight_Level_II</td>\n      <td>0.0</td>\n      <td>...</td>\n      <td>1.0</td>\n      <td>0.0</td>\n      <td>0.0</td>\n      <td>1.0</td>\n      <td>0.0</td>\n      <td>0.0</td>\n      <td>0.0</td>\n      <td>0.0</td>\n      <td>1.0</td>\n      <td>0.0</td>\n    </tr>\n    <tr>\n      <th>1</th>\n      <td>18.000000</td>\n      <td>1.560000</td>\n      <td>57.000000</td>\n      <td>2.000000</td>\n      <td>3.000000</td>\n      <td>2.000000</td>\n      <td>1.000000</td>\n      <td>1.000000</td>\n      <td>Normal_Weight</td>\n      <td>1.0</td>\n      <td>...</td>\n      <td>1.0</td>\n      <td>0.0</td>\n      <td>0.0</td>\n      <td>0.0</td>\n      <td>1.0</td>\n      <td>1.0</td>\n      <td>0.0</td>\n      <td>0.0</td>\n      <td>0.0</td>\n      <td>0.0</td>\n    </tr>\n    <tr>\n      <th>2</th>\n      <td>18.000000</td>\n      <td>1.711460</td>\n      <td>50.165754</td>\n      <td>1.880534</td>\n      <td>1.411685</td>\n      <td>1.910378</td>\n      <td>0.866045</td>\n      <td>1.673584</td>\n      <td>Insufficient_Weight</td>\n      <td>1.0</td>\n      <td>...</td>\n      <td>1.0</td>\n      <td>0.0</td>\n      <td>0.0</td>\n      <td>0.0</td>\n      <td>1.0</td>\n      <td>0.0</td>\n      <td>0.0</td>\n      <td>0.0</td>\n      <td>1.0</td>\n      <td>0.0</td>\n    </tr>\n    <tr>\n      <th>3</th>\n      <td>20.952737</td>\n      <td>1.710730</td>\n      <td>131.274851</td>\n      <td>3.000000</td>\n      <td>3.000000</td>\n      <td>1.674061</td>\n      <td>1.467863</td>\n      <td>0.780199</td>\n      <td>Obesity_Type_III</td>\n      <td>1.0</td>\n      <td>...</td>\n      <td>1.0</td>\n      <td>0.0</td>\n      <td>0.0</td>\n      <td>1.0</td>\n      <td>0.0</td>\n      <td>0.0</td>\n      <td>0.0</td>\n      <td>0.0</td>\n      <td>1.0</td>\n      <td>0.0</td>\n    </tr>\n    <tr>\n      <th>4</th>\n      <td>31.641081</td>\n      <td>1.914186</td>\n      <td>93.798055</td>\n      <td>2.679664</td>\n      <td>1.971472</td>\n      <td>1.979848</td>\n      <td>1.967973</td>\n      <td>0.931721</td>\n      <td>Overweight_Level_II</td>\n      <td>0.0</td>\n      <td>...</td>\n      <td>1.0</td>\n      <td>0.0</td>\n      <td>0.0</td>\n      <td>1.0</td>\n      <td>0.0</td>\n      <td>0.0</td>\n      <td>0.0</td>\n      <td>0.0</td>\n      <td>1.0</td>\n      <td>0.0</td>\n    </tr>\n  </tbody>\n</table>\n<p>5 rows × 31 columns</p>\n</div>"
          },
          "metadata": {}
        }
      ]
    },
    {
      "cell_type": "markdown",
      "source": [
        "Checking for data Cleaning but data is clean"
      ],
      "metadata": {
        "id": "-a5x8dENDm1C"
      }
    },
    {
      "cell_type": "code",
      "source": [
        "df.isnull().sum()"
      ],
      "metadata": {
        "execution": {
          "iopub.status.busy": "2024-03-23T10:25:05.852849Z",
          "iopub.execute_input": "2024-03-23T10:25:05.853232Z",
          "iopub.status.idle": "2024-03-23T10:25:05.866891Z",
          "shell.execute_reply.started": "2024-03-23T10:25:05.853202Z",
          "shell.execute_reply": "2024-03-23T10:25:05.865327Z"
        },
        "trusted": true,
        "id": "WPkf5wJJDm1D",
        "outputId": "2e39b8f5-9c7e-4025-d1cf-93bfbb910c44"
      },
      "execution_count": null,
      "outputs": [
        {
          "execution_count": 7,
          "output_type": "execute_result",
          "data": {
            "text/plain": "Age                                   0\nHeight                                0\nWeight                                0\nFCVC                                  0\nNCP                                   0\nCH2O                                  0\nFAF                                   0\nTUE                                   0\nNObeyesdad                            0\nGender_Female                         0\nGender_Male                           0\nfamily_history_with_overweight_no     0\nfamily_history_with_overweight_yes    0\nFAVC_no                               0\nFAVC_yes                              0\nCAEC_Always                           0\nCAEC_Frequently                       0\nCAEC_Sometimes                        0\nCAEC_no                               0\nSMOKE_no                              0\nSMOKE_yes                             0\nSCC_no                                0\nSCC_yes                               0\nCALC_Frequently                       0\nCALC_Sometimes                        0\nCALC_no                               0\nMTRANS_Automobile                     0\nMTRANS_Bike                           0\nMTRANS_Motorbike                      0\nMTRANS_Public_Transportation          0\nMTRANS_Walking                        0\ndtype: int64"
          },
          "metadata": {}
        }
      ]
    },
    {
      "cell_type": "code",
      "source": [
        "df.dtypes"
      ],
      "metadata": {
        "execution": {
          "iopub.status.busy": "2024-03-23T10:25:14.808902Z",
          "iopub.execute_input": "2024-03-23T10:25:14.809299Z",
          "iopub.status.idle": "2024-03-23T10:25:14.819001Z",
          "shell.execute_reply.started": "2024-03-23T10:25:14.80927Z",
          "shell.execute_reply": "2024-03-23T10:25:14.817882Z"
        },
        "trusted": true,
        "id": "S3F4yvasDm1E",
        "outputId": "39f1377d-d21e-4876-84da-36a508d98423"
      },
      "execution_count": null,
      "outputs": [
        {
          "execution_count": 8,
          "output_type": "execute_result",
          "data": {
            "text/plain": "Age                                   float64\nHeight                                float64\nWeight                                float64\nFCVC                                  float64\nNCP                                   float64\nCH2O                                  float64\nFAF                                   float64\nTUE                                   float64\nNObeyesdad                             object\nGender_Female                         float64\nGender_Male                           float64\nfamily_history_with_overweight_no     float64\nfamily_history_with_overweight_yes    float64\nFAVC_no                               float64\nFAVC_yes                              float64\nCAEC_Always                           float64\nCAEC_Frequently                       float64\nCAEC_Sometimes                        float64\nCAEC_no                               float64\nSMOKE_no                              float64\nSMOKE_yes                             float64\nSCC_no                                float64\nSCC_yes                               float64\nCALC_Frequently                       float64\nCALC_Sometimes                        float64\nCALC_no                               float64\nMTRANS_Automobile                     float64\nMTRANS_Bike                           float64\nMTRANS_Motorbike                      float64\nMTRANS_Public_Transportation          float64\nMTRANS_Walking                        float64\ndtype: object"
          },
          "metadata": {}
        }
      ]
    },
    {
      "cell_type": "markdown",
      "source": [
        "Types of Obesity in dataset"
      ],
      "metadata": {
        "id": "dSvmu3P1Dm1F"
      }
    },
    {
      "cell_type": "code",
      "source": [
        "unique_names = df['NObeyesdad'].unique()\n",
        "print(unique_names)"
      ],
      "metadata": {
        "execution": {
          "iopub.status.busy": "2024-03-23T10:25:18.732424Z",
          "iopub.execute_input": "2024-03-23T10:25:18.732881Z",
          "iopub.status.idle": "2024-03-23T10:25:18.741913Z",
          "shell.execute_reply.started": "2024-03-23T10:25:18.732847Z",
          "shell.execute_reply": "2024-03-23T10:25:18.740488Z"
        },
        "trusted": true,
        "id": "3j546DOfDm1G",
        "outputId": "e9284be2-482b-42e8-c8a6-f711491873f5"
      },
      "execution_count": null,
      "outputs": [
        {
          "name": "stdout",
          "text": "['Overweight_Level_II' 'Normal_Weight' 'Insufficient_Weight'\n 'Obesity_Type_III' 'Obesity_Type_II' 'Overweight_Level_I'\n 'Obesity_Type_I']\n",
          "output_type": "stream"
        }
      ]
    },
    {
      "cell_type": "markdown",
      "source": [
        "Selecting trainable features and target Output"
      ],
      "metadata": {
        "id": "_IxOHmFLDm1G"
      }
    },
    {
      "cell_type": "code",
      "source": [
        "y_train=df['NObeyesdad']\n",
        "X_train=df.drop(columns=['NObeyesdad'])"
      ],
      "metadata": {
        "execution": {
          "iopub.status.busy": "2024-03-23T10:25:27.46056Z",
          "iopub.execute_input": "2024-03-23T10:25:27.461131Z",
          "iopub.status.idle": "2024-03-23T10:25:27.475587Z",
          "shell.execute_reply.started": "2024-03-23T10:25:27.461067Z",
          "shell.execute_reply": "2024-03-23T10:25:27.474091Z"
        },
        "trusted": true,
        "id": "wmVl-4L9Dm1H"
      },
      "execution_count": null,
      "outputs": []
    },
    {
      "cell_type": "code",
      "source": [
        "X_train.shape,y_train.shape"
      ],
      "metadata": {
        "execution": {
          "iopub.status.busy": "2024-03-23T10:25:33.869856Z",
          "iopub.execute_input": "2024-03-23T10:25:33.870251Z",
          "iopub.status.idle": "2024-03-23T10:25:33.880357Z",
          "shell.execute_reply.started": "2024-03-23T10:25:33.870221Z",
          "shell.execute_reply": "2024-03-23T10:25:33.878806Z"
        },
        "trusted": true,
        "id": "9Ry3kUDfDm1H",
        "outputId": "b6187137-9c02-4412-8d62-363b9d5f573b"
      },
      "execution_count": null,
      "outputs": [
        {
          "execution_count": 12,
          "output_type": "execute_result",
          "data": {
            "text/plain": "((20758, 30), (20758,))"
          },
          "metadata": {}
        }
      ]
    },
    {
      "cell_type": "code",
      "source": [
        "X_train.head()"
      ],
      "metadata": {
        "execution": {
          "iopub.status.busy": "2024-03-23T10:25:37.351135Z",
          "iopub.execute_input": "2024-03-23T10:25:37.351522Z",
          "iopub.status.idle": "2024-03-23T10:25:37.386547Z",
          "shell.execute_reply.started": "2024-03-23T10:25:37.351493Z",
          "shell.execute_reply": "2024-03-23T10:25:37.385104Z"
        },
        "trusted": true,
        "id": "-eE95wsiDm1I",
        "outputId": "92f4a828-5681-451e-d6b6-323ecec20b02"
      },
      "execution_count": null,
      "outputs": [
        {
          "execution_count": 13,
          "output_type": "execute_result",
          "data": {
            "text/plain": "         Age    Height      Weight      FCVC       NCP      CH2O       FAF  \\\n0  24.443011  1.699998   81.669950  2.000000  2.983297  2.763573  0.000000   \n1  18.000000  1.560000   57.000000  2.000000  3.000000  2.000000  1.000000   \n2  18.000000  1.711460   50.165754  1.880534  1.411685  1.910378  0.866045   \n3  20.952737  1.710730  131.274851  3.000000  3.000000  1.674061  1.467863   \n4  31.641081  1.914186   93.798055  2.679664  1.971472  1.979848  1.967973   \n\n        TUE  Gender_Female  Gender_Male  ...  SCC_no  SCC_yes  \\\n0  0.976473            0.0          1.0  ...     1.0      0.0   \n1  1.000000            1.0          0.0  ...     1.0      0.0   \n2  1.673584            1.0          0.0  ...     1.0      0.0   \n3  0.780199            1.0          0.0  ...     1.0      0.0   \n4  0.931721            0.0          1.0  ...     1.0      0.0   \n\n   CALC_Frequently  CALC_Sometimes  CALC_no  MTRANS_Automobile  MTRANS_Bike  \\\n0              0.0             1.0      0.0                0.0          0.0   \n1              0.0             0.0      1.0                1.0          0.0   \n2              0.0             0.0      1.0                0.0          0.0   \n3              0.0             1.0      0.0                0.0          0.0   \n4              0.0             1.0      0.0                0.0          0.0   \n\n   MTRANS_Motorbike  MTRANS_Public_Transportation  MTRANS_Walking  \n0               0.0                           1.0             0.0  \n1               0.0                           0.0             0.0  \n2               0.0                           1.0             0.0  \n3               0.0                           1.0             0.0  \n4               0.0                           1.0             0.0  \n\n[5 rows x 30 columns]",
            "text/html": "<div>\n<style scoped>\n    .dataframe tbody tr th:only-of-type {\n        vertical-align: middle;\n    }\n\n    .dataframe tbody tr th {\n        vertical-align: top;\n    }\n\n    .dataframe thead th {\n        text-align: right;\n    }\n</style>\n<table border=\"1\" class=\"dataframe\">\n  <thead>\n    <tr style=\"text-align: right;\">\n      <th></th>\n      <th>Age</th>\n      <th>Height</th>\n      <th>Weight</th>\n      <th>FCVC</th>\n      <th>NCP</th>\n      <th>CH2O</th>\n      <th>FAF</th>\n      <th>TUE</th>\n      <th>Gender_Female</th>\n      <th>Gender_Male</th>\n      <th>...</th>\n      <th>SCC_no</th>\n      <th>SCC_yes</th>\n      <th>CALC_Frequently</th>\n      <th>CALC_Sometimes</th>\n      <th>CALC_no</th>\n      <th>MTRANS_Automobile</th>\n      <th>MTRANS_Bike</th>\n      <th>MTRANS_Motorbike</th>\n      <th>MTRANS_Public_Transportation</th>\n      <th>MTRANS_Walking</th>\n    </tr>\n  </thead>\n  <tbody>\n    <tr>\n      <th>0</th>\n      <td>24.443011</td>\n      <td>1.699998</td>\n      <td>81.669950</td>\n      <td>2.000000</td>\n      <td>2.983297</td>\n      <td>2.763573</td>\n      <td>0.000000</td>\n      <td>0.976473</td>\n      <td>0.0</td>\n      <td>1.0</td>\n      <td>...</td>\n      <td>1.0</td>\n      <td>0.0</td>\n      <td>0.0</td>\n      <td>1.0</td>\n      <td>0.0</td>\n      <td>0.0</td>\n      <td>0.0</td>\n      <td>0.0</td>\n      <td>1.0</td>\n      <td>0.0</td>\n    </tr>\n    <tr>\n      <th>1</th>\n      <td>18.000000</td>\n      <td>1.560000</td>\n      <td>57.000000</td>\n      <td>2.000000</td>\n      <td>3.000000</td>\n      <td>2.000000</td>\n      <td>1.000000</td>\n      <td>1.000000</td>\n      <td>1.0</td>\n      <td>0.0</td>\n      <td>...</td>\n      <td>1.0</td>\n      <td>0.0</td>\n      <td>0.0</td>\n      <td>0.0</td>\n      <td>1.0</td>\n      <td>1.0</td>\n      <td>0.0</td>\n      <td>0.0</td>\n      <td>0.0</td>\n      <td>0.0</td>\n    </tr>\n    <tr>\n      <th>2</th>\n      <td>18.000000</td>\n      <td>1.711460</td>\n      <td>50.165754</td>\n      <td>1.880534</td>\n      <td>1.411685</td>\n      <td>1.910378</td>\n      <td>0.866045</td>\n      <td>1.673584</td>\n      <td>1.0</td>\n      <td>0.0</td>\n      <td>...</td>\n      <td>1.0</td>\n      <td>0.0</td>\n      <td>0.0</td>\n      <td>0.0</td>\n      <td>1.0</td>\n      <td>0.0</td>\n      <td>0.0</td>\n      <td>0.0</td>\n      <td>1.0</td>\n      <td>0.0</td>\n    </tr>\n    <tr>\n      <th>3</th>\n      <td>20.952737</td>\n      <td>1.710730</td>\n      <td>131.274851</td>\n      <td>3.000000</td>\n      <td>3.000000</td>\n      <td>1.674061</td>\n      <td>1.467863</td>\n      <td>0.780199</td>\n      <td>1.0</td>\n      <td>0.0</td>\n      <td>...</td>\n      <td>1.0</td>\n      <td>0.0</td>\n      <td>0.0</td>\n      <td>1.0</td>\n      <td>0.0</td>\n      <td>0.0</td>\n      <td>0.0</td>\n      <td>0.0</td>\n      <td>1.0</td>\n      <td>0.0</td>\n    </tr>\n    <tr>\n      <th>4</th>\n      <td>31.641081</td>\n      <td>1.914186</td>\n      <td>93.798055</td>\n      <td>2.679664</td>\n      <td>1.971472</td>\n      <td>1.979848</td>\n      <td>1.967973</td>\n      <td>0.931721</td>\n      <td>0.0</td>\n      <td>1.0</td>\n      <td>...</td>\n      <td>1.0</td>\n      <td>0.0</td>\n      <td>0.0</td>\n      <td>1.0</td>\n      <td>0.0</td>\n      <td>0.0</td>\n      <td>0.0</td>\n      <td>0.0</td>\n      <td>1.0</td>\n      <td>0.0</td>\n    </tr>\n  </tbody>\n</table>\n<p>5 rows × 30 columns</p>\n</div>"
          },
          "metadata": {}
        }
      ]
    },
    {
      "cell_type": "code",
      "source": [
        "y_train.nunique()"
      ],
      "metadata": {
        "execution": {
          "iopub.status.busy": "2024-03-23T10:25:44.459494Z",
          "iopub.execute_input": "2024-03-23T10:25:44.459922Z",
          "iopub.status.idle": "2024-03-23T10:25:44.46897Z",
          "shell.execute_reply.started": "2024-03-23T10:25:44.45989Z",
          "shell.execute_reply": "2024-03-23T10:25:44.467709Z"
        },
        "trusted": true,
        "id": "j622QWUEDm1I",
        "outputId": "fa5c1f8d-1ecb-4b8f-ab46-6e6955dfd60c"
      },
      "execution_count": null,
      "outputs": [
        {
          "execution_count": 14,
          "output_type": "execute_result",
          "data": {
            "text/plain": "7"
          },
          "metadata": {}
        }
      ]
    },
    {
      "cell_type": "markdown",
      "source": [
        "Normalizing the data"
      ],
      "metadata": {
        "id": "HHtU8SjlDm1I"
      }
    },
    {
      "cell_type": "code",
      "source": [
        "from sklearn.preprocessing import MinMaxScaler\n",
        "scaler = MinMaxScaler()\n",
        "\n",
        "# Normalize float values in all columns\n",
        "X_train[X_train.columns] = scaler.fit_transform(X_train[X_train.columns])"
      ],
      "metadata": {
        "execution": {
          "iopub.status.busy": "2024-03-23T10:25:51.180432Z",
          "iopub.execute_input": "2024-03-23T10:25:51.181499Z",
          "iopub.status.idle": "2024-03-23T10:25:51.845229Z",
          "shell.execute_reply.started": "2024-03-23T10:25:51.181457Z",
          "shell.execute_reply": "2024-03-23T10:25:51.843647Z"
        },
        "trusted": true,
        "id": "PBw_Y_kbDm1J"
      },
      "execution_count": null,
      "outputs": []
    },
    {
      "cell_type": "code",
      "source": [
        "X_train.head(5)"
      ],
      "metadata": {
        "execution": {
          "iopub.status.busy": "2024-03-23T10:25:58.581668Z",
          "iopub.execute_input": "2024-03-23T10:25:58.582196Z",
          "iopub.status.idle": "2024-03-23T10:25:58.632017Z",
          "shell.execute_reply.started": "2024-03-23T10:25:58.582152Z",
          "shell.execute_reply": "2024-03-23T10:25:58.63072Z"
        },
        "trusted": true,
        "id": "HcQ4o2IYDm1J",
        "outputId": "56e96ee1-c274-4520-ca34-fc80db8b1ed7"
      },
      "execution_count": null,
      "outputs": [
        {
          "execution_count": 16,
          "output_type": "execute_result",
          "data": {
            "text/plain": "        Age    Height    Weight      FCVC       NCP      CH2O       FAF  \\\n0  0.222192  0.475586  0.338497  0.500000  0.661099  0.881787  0.000000   \n1  0.085106  0.209260  0.142792  0.500000  0.666667  0.500000  0.333333   \n2  0.085106  0.497391  0.088577  0.440267  0.137228  0.455189  0.288682   \n3  0.147931  0.496002  0.732007  1.000000  0.666667  0.337031  0.489288   \n4  0.375342  0.883049  0.434708  0.839832  0.323824  0.489924  0.655991   \n\n        TUE  Gender_Female  Gender_Male  ...  SCC_no  SCC_yes  \\\n0  0.488237            0.0          1.0  ...     1.0      0.0   \n1  0.500000            1.0          0.0  ...     1.0      0.0   \n2  0.836792            1.0          0.0  ...     1.0      0.0   \n3  0.390099            1.0          0.0  ...     1.0      0.0   \n4  0.465861            0.0          1.0  ...     1.0      0.0   \n\n   CALC_Frequently  CALC_Sometimes  CALC_no  MTRANS_Automobile  MTRANS_Bike  \\\n0              0.0             1.0      0.0                0.0          0.0   \n1              0.0             0.0      1.0                1.0          0.0   \n2              0.0             0.0      1.0                0.0          0.0   \n3              0.0             1.0      0.0                0.0          0.0   \n4              0.0             1.0      0.0                0.0          0.0   \n\n   MTRANS_Motorbike  MTRANS_Public_Transportation  MTRANS_Walking  \n0               0.0                           1.0             0.0  \n1               0.0                           0.0             0.0  \n2               0.0                           1.0             0.0  \n3               0.0                           1.0             0.0  \n4               0.0                           1.0             0.0  \n\n[5 rows x 30 columns]",
            "text/html": "<div>\n<style scoped>\n    .dataframe tbody tr th:only-of-type {\n        vertical-align: middle;\n    }\n\n    .dataframe tbody tr th {\n        vertical-align: top;\n    }\n\n    .dataframe thead th {\n        text-align: right;\n    }\n</style>\n<table border=\"1\" class=\"dataframe\">\n  <thead>\n    <tr style=\"text-align: right;\">\n      <th></th>\n      <th>Age</th>\n      <th>Height</th>\n      <th>Weight</th>\n      <th>FCVC</th>\n      <th>NCP</th>\n      <th>CH2O</th>\n      <th>FAF</th>\n      <th>TUE</th>\n      <th>Gender_Female</th>\n      <th>Gender_Male</th>\n      <th>...</th>\n      <th>SCC_no</th>\n      <th>SCC_yes</th>\n      <th>CALC_Frequently</th>\n      <th>CALC_Sometimes</th>\n      <th>CALC_no</th>\n      <th>MTRANS_Automobile</th>\n      <th>MTRANS_Bike</th>\n      <th>MTRANS_Motorbike</th>\n      <th>MTRANS_Public_Transportation</th>\n      <th>MTRANS_Walking</th>\n    </tr>\n  </thead>\n  <tbody>\n    <tr>\n      <th>0</th>\n      <td>0.222192</td>\n      <td>0.475586</td>\n      <td>0.338497</td>\n      <td>0.500000</td>\n      <td>0.661099</td>\n      <td>0.881787</td>\n      <td>0.000000</td>\n      <td>0.488237</td>\n      <td>0.0</td>\n      <td>1.0</td>\n      <td>...</td>\n      <td>1.0</td>\n      <td>0.0</td>\n      <td>0.0</td>\n      <td>1.0</td>\n      <td>0.0</td>\n      <td>0.0</td>\n      <td>0.0</td>\n      <td>0.0</td>\n      <td>1.0</td>\n      <td>0.0</td>\n    </tr>\n    <tr>\n      <th>1</th>\n      <td>0.085106</td>\n      <td>0.209260</td>\n      <td>0.142792</td>\n      <td>0.500000</td>\n      <td>0.666667</td>\n      <td>0.500000</td>\n      <td>0.333333</td>\n      <td>0.500000</td>\n      <td>1.0</td>\n      <td>0.0</td>\n      <td>...</td>\n      <td>1.0</td>\n      <td>0.0</td>\n      <td>0.0</td>\n      <td>0.0</td>\n      <td>1.0</td>\n      <td>1.0</td>\n      <td>0.0</td>\n      <td>0.0</td>\n      <td>0.0</td>\n      <td>0.0</td>\n    </tr>\n    <tr>\n      <th>2</th>\n      <td>0.085106</td>\n      <td>0.497391</td>\n      <td>0.088577</td>\n      <td>0.440267</td>\n      <td>0.137228</td>\n      <td>0.455189</td>\n      <td>0.288682</td>\n      <td>0.836792</td>\n      <td>1.0</td>\n      <td>0.0</td>\n      <td>...</td>\n      <td>1.0</td>\n      <td>0.0</td>\n      <td>0.0</td>\n      <td>0.0</td>\n      <td>1.0</td>\n      <td>0.0</td>\n      <td>0.0</td>\n      <td>0.0</td>\n      <td>1.0</td>\n      <td>0.0</td>\n    </tr>\n    <tr>\n      <th>3</th>\n      <td>0.147931</td>\n      <td>0.496002</td>\n      <td>0.732007</td>\n      <td>1.000000</td>\n      <td>0.666667</td>\n      <td>0.337031</td>\n      <td>0.489288</td>\n      <td>0.390099</td>\n      <td>1.0</td>\n      <td>0.0</td>\n      <td>...</td>\n      <td>1.0</td>\n      <td>0.0</td>\n      <td>0.0</td>\n      <td>1.0</td>\n      <td>0.0</td>\n      <td>0.0</td>\n      <td>0.0</td>\n      <td>0.0</td>\n      <td>1.0</td>\n      <td>0.0</td>\n    </tr>\n    <tr>\n      <th>4</th>\n      <td>0.375342</td>\n      <td>0.883049</td>\n      <td>0.434708</td>\n      <td>0.839832</td>\n      <td>0.323824</td>\n      <td>0.489924</td>\n      <td>0.655991</td>\n      <td>0.465861</td>\n      <td>0.0</td>\n      <td>1.0</td>\n      <td>...</td>\n      <td>1.0</td>\n      <td>0.0</td>\n      <td>0.0</td>\n      <td>1.0</td>\n      <td>0.0</td>\n      <td>0.0</td>\n      <td>0.0</td>\n      <td>0.0</td>\n      <td>1.0</td>\n      <td>0.0</td>\n    </tr>\n  </tbody>\n</table>\n<p>5 rows × 30 columns</p>\n</div>"
          },
          "metadata": {}
        }
      ]
    },
    {
      "cell_type": "code",
      "source": [
        "X_train.dtypes"
      ],
      "metadata": {
        "execution": {
          "iopub.status.busy": "2024-03-23T10:26:02.330138Z",
          "iopub.execute_input": "2024-03-23T10:26:02.330568Z",
          "iopub.status.idle": "2024-03-23T10:26:02.340983Z",
          "shell.execute_reply.started": "2024-03-23T10:26:02.330536Z",
          "shell.execute_reply": "2024-03-23T10:26:02.339514Z"
        },
        "trusted": true,
        "id": "Ujuu2xNpDm1K",
        "outputId": "5c1662f3-63ce-4989-b60f-4269c78e5c5d"
      },
      "execution_count": null,
      "outputs": [
        {
          "execution_count": 17,
          "output_type": "execute_result",
          "data": {
            "text/plain": "Age                                   float64\nHeight                                float64\nWeight                                float64\nFCVC                                  float64\nNCP                                   float64\nCH2O                                  float64\nFAF                                   float64\nTUE                                   float64\nGender_Female                         float64\nGender_Male                           float64\nfamily_history_with_overweight_no     float64\nfamily_history_with_overweight_yes    float64\nFAVC_no                               float64\nFAVC_yes                              float64\nCAEC_Always                           float64\nCAEC_Frequently                       float64\nCAEC_Sometimes                        float64\nCAEC_no                               float64\nSMOKE_no                              float64\nSMOKE_yes                             float64\nSCC_no                                float64\nSCC_yes                               float64\nCALC_Frequently                       float64\nCALC_Sometimes                        float64\nCALC_no                               float64\nMTRANS_Automobile                     float64\nMTRANS_Bike                           float64\nMTRANS_Motorbike                      float64\nMTRANS_Public_Transportation          float64\nMTRANS_Walking                        float64\ndtype: object"
          },
          "metadata": {}
        }
      ]
    },
    {
      "cell_type": "code",
      "source": [
        "from sklearn.preprocessing import OneHotEncoder\n",
        "\n",
        "# Assuming Y_train is a pandas Series containing categorical values\n",
        "one_hot_encoder = OneHotEncoder()\n",
        "y_train = one_hot_encoder.fit_transform(y_train.values.reshape(-1, 1)).toarray()\n",
        "\n",
        "# Now, Y_train_encoded contains the one-hot encoded labels\n"
      ],
      "metadata": {
        "execution": {
          "iopub.status.busy": "2024-03-23T10:26:09.65881Z",
          "iopub.execute_input": "2024-03-23T10:26:09.659267Z",
          "iopub.status.idle": "2024-03-23T10:26:09.678556Z",
          "shell.execute_reply.started": "2024-03-23T10:26:09.659229Z",
          "shell.execute_reply": "2024-03-23T10:26:09.676966Z"
        },
        "trusted": true,
        "id": "9Dn4c-lIDm1K"
      },
      "execution_count": null,
      "outputs": []
    },
    {
      "cell_type": "code",
      "source": [
        "y_train"
      ],
      "metadata": {
        "execution": {
          "iopub.status.busy": "2024-03-23T10:26:13.721065Z",
          "iopub.execute_input": "2024-03-23T10:26:13.72155Z",
          "iopub.status.idle": "2024-03-23T10:26:13.729264Z",
          "shell.execute_reply.started": "2024-03-23T10:26:13.721515Z",
          "shell.execute_reply": "2024-03-23T10:26:13.728057Z"
        },
        "trusted": true,
        "id": "gucW_COWDm1K",
        "outputId": "cc4a9a82-a2ed-4302-cca2-c0f071003cf3"
      },
      "execution_count": null,
      "outputs": [
        {
          "execution_count": 19,
          "output_type": "execute_result",
          "data": {
            "text/plain": "array([[0., 0., 0., ..., 0., 0., 1.],\n       [0., 1., 0., ..., 0., 0., 0.],\n       [1., 0., 0., ..., 0., 0., 0.],\n       ...,\n       [0., 0., 0., ..., 0., 0., 0.],\n       [0., 0., 0., ..., 0., 0., 1.],\n       [0., 0., 0., ..., 0., 0., 0.]])"
          },
          "metadata": {}
        }
      ]
    },
    {
      "cell_type": "code",
      "source": [
        "X_train.shape,y_train.shape"
      ],
      "metadata": {
        "execution": {
          "iopub.status.busy": "2024-03-23T10:26:17.950973Z",
          "iopub.execute_input": "2024-03-23T10:26:17.951456Z",
          "iopub.status.idle": "2024-03-23T10:26:17.96122Z",
          "shell.execute_reply.started": "2024-03-23T10:26:17.951416Z",
          "shell.execute_reply": "2024-03-23T10:26:17.960098Z"
        },
        "trusted": true,
        "id": "Om54euF7Dm1L",
        "outputId": "ae109376-d342-4047-932e-f4aa887fba13"
      },
      "execution_count": null,
      "outputs": [
        {
          "execution_count": 20,
          "output_type": "execute_result",
          "data": {
            "text/plain": "((20758, 30), (20758, 7))"
          },
          "metadata": {}
        }
      ]
    },
    {
      "cell_type": "code",
      "source": [
        "from sklearn.model_selection import train_test_split\n",
        "\n",
        "# Split the data into training and validation sets\n",
        "X_train, X_val, y_train, y_val = train_test_split(X_train, y_train, test_size=0.2, random_state=42)\n"
      ],
      "metadata": {
        "execution": {
          "iopub.status.busy": "2024-03-23T10:26:26.213485Z",
          "iopub.execute_input": "2024-03-23T10:26:26.214522Z",
          "iopub.status.idle": "2024-03-23T10:26:26.359895Z",
          "shell.execute_reply.started": "2024-03-23T10:26:26.214478Z",
          "shell.execute_reply": "2024-03-23T10:26:26.358678Z"
        },
        "trusted": true,
        "id": "SXj0Ai_CDm1L"
      },
      "execution_count": null,
      "outputs": []
    },
    {
      "cell_type": "markdown",
      "source": [
        "* 0 layer = accuracy = 86% = No Underfitting and Overfitting   ep=30  underfitting\n",
        "* 1 layer = accuracy = 87% = bit Underfitting 128\n",
        "* 2 layer = accuracy = 86% = bit Underfitting 128 128"
      ],
      "metadata": {
        "id": "1k86uD8JDm1M"
      }
    },
    {
      "cell_type": "markdown",
      "source": [
        "df.drop(['id'],axis=1,inplace=True)"
      ],
      "metadata": {
        "id": "gJocK8SnDm1M"
      }
    },
    {
      "cell_type": "markdown",
      "source": [
        "Submission Model 2 = 0 layer LeaakyRelu  accuracy is 87.5 % epoch = 50\n",
        "submission Model 3 = 4layer Dense(31, activation='LeakyReLU', input_shape=(X_train.shape[1],)),\n",
        "    Dense(128, activation='LeakyReLU'),\n",
        "    Dense(64, activation='LeakyReLU'),\n",
        "    Dropout(0.1),\n",
        "    Dense(y_train.shape[1], activation='softmax')  accuracy = 86 % final score very less 0.0 epoch=50\n"
      ],
      "metadata": {
        "id": "CHnSnhvKDm1M"
      }
    },
    {
      "cell_type": "code",
      "source": [
        "from tensorflow.keras.models import Sequential\n",
        "from tensorflow.keras.layers import Dense\n",
        "from tensorflow.keras.layers import Dense, Dropout\n",
        "from tensorflow.keras.layers import Dense, LeakyReLU\n",
        "\n",
        "# Define the model\n",
        "model = Sequential([\n",
        "   Dense(30, activation='ReLU', input_shape=(X_train.shape[1],)),\n",
        "    Dropout(0.2),\n",
        "    Dense(64, activation='ReLU'),\n",
        "    Dropout(0.2),\n",
        "    Dense(128, activation='ReLU'),\n",
        "    Dropout(0.2),\n",
        "    Dense(64, activation='ReLU'),\n",
        "    Dropout(0.2),\n",
        "    Dense(30, activation='ReLU'),\n",
        "    Dropout(0.2),\n",
        "    Dense(y_train.shape[1], activation='softmax')\n",
        "])"
      ],
      "metadata": {
        "execution": {
          "iopub.status.busy": "2024-03-23T10:27:13.389865Z",
          "iopub.execute_input": "2024-03-23T10:27:13.390317Z",
          "iopub.status.idle": "2024-03-23T10:27:13.52786Z",
          "shell.execute_reply.started": "2024-03-23T10:27:13.39028Z",
          "shell.execute_reply": "2024-03-23T10:27:13.526673Z"
        },
        "trusted": true,
        "id": "JzykQgdeDm1N"
      },
      "execution_count": null,
      "outputs": []
    },
    {
      "cell_type": "code",
      "source": [
        "# Compile the model\n",
        "model.compile(optimizer='adam', loss='categorical_crossentropy', metrics=['accuracy'])\n",
        "\n",
        "# Train the model\n",
        "history=model.fit(X_train, y_train, epochs=25, batch_size=32, validation_split=0.2)"
      ],
      "metadata": {
        "execution": {
          "iopub.status.busy": "2024-03-23T10:30:23.29124Z",
          "iopub.execute_input": "2024-03-23T10:30:23.291689Z",
          "iopub.status.idle": "2024-03-23T10:31:00.706533Z",
          "shell.execute_reply.started": "2024-03-23T10:30:23.291654Z",
          "shell.execute_reply": "2024-03-23T10:31:00.705557Z"
        },
        "trusted": true,
        "id": "QCV3-rQyDm1N",
        "outputId": "f5cdc793-80b0-43a1-bf47-83e7075ff35a"
      },
      "execution_count": null,
      "outputs": [
        {
          "name": "stdout",
          "text": "Epoch 1/25\n416/416 [==============================] - 3s 4ms/step - loss: 0.4804 - accuracy: 0.8354 - val_loss: 0.3849 - val_accuracy: 0.8736\nEpoch 2/25\n416/416 [==============================] - 1s 3ms/step - loss: 0.4660 - accuracy: 0.8373 - val_loss: 0.3982 - val_accuracy: 0.8685\nEpoch 3/25\n416/416 [==============================] - 1s 3ms/step - loss: 0.4650 - accuracy: 0.8368 - val_loss: 0.4680 - val_accuracy: 0.8347\nEpoch 4/25\n416/416 [==============================] - 2s 4ms/step - loss: 0.4644 - accuracy: 0.8389 - val_loss: 0.3842 - val_accuracy: 0.8721\nEpoch 5/25\n416/416 [==============================] - 1s 3ms/step - loss: 0.4616 - accuracy: 0.8405 - val_loss: 0.4084 - val_accuracy: 0.8546\nEpoch 6/25\n416/416 [==============================] - 1s 3ms/step - loss: 0.4584 - accuracy: 0.8397 - val_loss: 0.4002 - val_accuracy: 0.8615\nEpoch 7/25\n416/416 [==============================] - 2s 4ms/step - loss: 0.4529 - accuracy: 0.8436 - val_loss: 0.3850 - val_accuracy: 0.8679\nEpoch 8/25\n416/416 [==============================] - 1s 3ms/step - loss: 0.4588 - accuracy: 0.8400 - val_loss: 0.4525 - val_accuracy: 0.8438\nEpoch 9/25\n416/416 [==============================] - 1s 3ms/step - loss: 0.4529 - accuracy: 0.8426 - val_loss: 0.4215 - val_accuracy: 0.8504\nEpoch 10/25\n416/416 [==============================] - 1s 3ms/step - loss: 0.4531 - accuracy: 0.8417 - val_loss: 0.3732 - val_accuracy: 0.8757\nEpoch 11/25\n416/416 [==============================] - 1s 3ms/step - loss: 0.4478 - accuracy: 0.8440 - val_loss: 0.3911 - val_accuracy: 0.8627\nEpoch 12/25\n416/416 [==============================] - 1s 3ms/step - loss: 0.4490 - accuracy: 0.8438 - val_loss: 0.4000 - val_accuracy: 0.8579\nEpoch 13/25\n416/416 [==============================] - 2s 4ms/step - loss: 0.4568 - accuracy: 0.8415 - val_loss: 0.3897 - val_accuracy: 0.8666\nEpoch 14/25\n416/416 [==============================] - 1s 3ms/step - loss: 0.4488 - accuracy: 0.8470 - val_loss: 0.3966 - val_accuracy: 0.8594\nEpoch 15/25\n416/416 [==============================] - 1s 3ms/step - loss: 0.4559 - accuracy: 0.8403 - val_loss: 0.3897 - val_accuracy: 0.8669\nEpoch 16/25\n416/416 [==============================] - 1s 3ms/step - loss: 0.4483 - accuracy: 0.8428 - val_loss: 0.4015 - val_accuracy: 0.8606\nEpoch 17/25\n416/416 [==============================] - 1s 3ms/step - loss: 0.4479 - accuracy: 0.8419 - val_loss: 0.3815 - val_accuracy: 0.8700\nEpoch 18/25\n416/416 [==============================] - 1s 3ms/step - loss: 0.4450 - accuracy: 0.8436 - val_loss: 0.4037 - val_accuracy: 0.8585\nEpoch 19/25\n416/416 [==============================] - 2s 4ms/step - loss: 0.4496 - accuracy: 0.8446 - val_loss: 0.4505 - val_accuracy: 0.8266\nEpoch 20/25\n416/416 [==============================] - 1s 3ms/step - loss: 0.4517 - accuracy: 0.8414 - val_loss: 0.3774 - val_accuracy: 0.8721\nEpoch 21/25\n416/416 [==============================] - 1s 3ms/step - loss: 0.4481 - accuracy: 0.8464 - val_loss: 0.3962 - val_accuracy: 0.8672\nEpoch 22/25\n416/416 [==============================] - 1s 3ms/step - loss: 0.4420 - accuracy: 0.8455 - val_loss: 0.3857 - val_accuracy: 0.8679\nEpoch 23/25\n416/416 [==============================] - 1s 3ms/step - loss: 0.4425 - accuracy: 0.8456 - val_loss: 0.4238 - val_accuracy: 0.8513\nEpoch 24/25\n416/416 [==============================] - 1s 3ms/step - loss: 0.4449 - accuracy: 0.8454 - val_loss: 0.3852 - val_accuracy: 0.8663\nEpoch 25/25\n416/416 [==============================] - 1s 3ms/step - loss: 0.4442 - accuracy: 0.8449 - val_loss: 0.4805 - val_accuracy: 0.8179\n",
          "output_type": "stream"
        }
      ]
    },
    {
      "cell_type": "code",
      "source": [
        "loss, accuracy = model.evaluate(X_val, y_val)\n",
        "print(\"Test Loss:\", loss)\n",
        "print(\"Test Accuracy:\", accuracy)"
      ],
      "metadata": {
        "execution": {
          "iopub.status.busy": "2024-03-23T10:31:06.150976Z",
          "iopub.execute_input": "2024-03-23T10:31:06.151402Z",
          "iopub.status.idle": "2024-03-23T10:31:06.488053Z",
          "shell.execute_reply.started": "2024-03-23T10:31:06.151368Z",
          "shell.execute_reply": "2024-03-23T10:31:06.486647Z"
        },
        "trusted": true,
        "id": "kgyCBmmNDm1N",
        "outputId": "24bdab1d-fc1a-499f-dc74-9acf2a05fe16"
      },
      "execution_count": null,
      "outputs": [
        {
          "name": "stdout",
          "text": "130/130 [==============================] - 0s 2ms/step - loss: 0.5114 - accuracy: 0.8145\nTest Loss: 0.5113586187362671\nTest Accuracy: 0.8145471811294556\n",
          "output_type": "stream"
        }
      ]
    },
    {
      "cell_type": "code",
      "source": [
        "import matplotlib.pyplot as plt\n",
        "plt.plot(history.history['loss'])\n",
        "plt.plot(history.history['val_loss'])"
      ],
      "metadata": {
        "execution": {
          "iopub.status.busy": "2024-03-23T10:31:26.25886Z",
          "iopub.execute_input": "2024-03-23T10:31:26.259332Z",
          "iopub.status.idle": "2024-03-23T10:31:26.482593Z",
          "shell.execute_reply.started": "2024-03-23T10:31:26.259295Z",
          "shell.execute_reply": "2024-03-23T10:31:26.481201Z"
        },
        "trusted": true,
        "id": "JAR4h-RmDm1O",
        "outputId": "5c5537ff-3bf4-4fe7-844e-85d2b3c5b1b5"
      },
      "execution_count": null,
      "outputs": [
        {
          "execution_count": 29,
          "output_type": "execute_result",
          "data": {
            "text/plain": "[<matplotlib.lines.Line2D at 0x7bb0efdc7f10>]"
          },
          "metadata": {}
        },
        {
          "output_type": "display_data",
          "data": {
            "text/plain": "<Figure size 640x480 with 1 Axes>",
            "image/png": "[encoded data removed]"
          },
          "metadata": {}
        }
      ]
    },
    {
      "cell_type": "code",
      "source": [
        "df_new=pd.read_csv('/kaggle/input/playground-series-s4e2/test.csv')\n",
        "df_new.head()"
      ],
      "metadata": {
        "execution": {
          "iopub.status.busy": "2024-03-23T08:11:29.690484Z",
          "iopub.execute_input": "2024-03-23T08:11:29.691179Z",
          "iopub.status.idle": "2024-03-23T08:11:29.783058Z",
          "shell.execute_reply.started": "2024-03-23T08:11:29.691148Z",
          "shell.execute_reply": "2024-03-23T08:11:29.781905Z"
        },
        "trusted": true,
        "id": "jSe7pyTIDm1O",
        "outputId": "568cf078-b52e-4033-f68c-d28c4a86b3dd"
      },
      "execution_count": null,
      "outputs": [
        {
          "execution_count": 39,
          "output_type": "execute_result",
          "data": {
            "text/plain": "      id  Gender        Age    Height      Weight  \\\n0  20758    Male  26.899886  1.848294  120.644178   \n1  20759  Female  21.000000  1.600000   66.000000   \n2  20760  Female  26.000000  1.643355  111.600553   \n3  20761    Male  20.979254  1.553127  103.669116   \n4  20762  Female  26.000000  1.627396  104.835346   \n\n  family_history_with_overweight FAVC      FCVC       NCP       CAEC SMOKE  \\\n0                            yes  yes  2.938616  3.000000  Sometimes    no   \n1                            yes  yes  2.000000  1.000000  Sometimes    no   \n2                            yes  yes  3.000000  3.000000  Sometimes    no   \n3                            yes  yes  2.000000  2.977909  Sometimes    no   \n4                            yes  yes  3.000000  3.000000  Sometimes    no   \n\n       CH2O SCC       FAF       TUE       CALC                 MTRANS  \n0  2.825629  no  0.855400  0.000000  Sometimes  Public_Transportation  \n1  3.000000  no  1.000000  0.000000  Sometimes  Public_Transportation  \n2  2.621877  no  0.000000  0.250502  Sometimes  Public_Transportation  \n3  2.786417  no  0.094851  0.000000  Sometimes  Public_Transportation  \n4  2.653531  no  0.000000  0.741069  Sometimes  Public_Transportation  ",
            "text/html": "<div>\n<style scoped>\n    .dataframe tbody tr th:only-of-type {\n        vertical-align: middle;\n    }\n\n    .dataframe tbody tr th {\n        vertical-align: top;\n    }\n\n    .dataframe thead th {\n        text-align: right;\n    }\n</style>\n<table border=\"1\" class=\"dataframe\">\n  <thead>\n    <tr style=\"text-align: right;\">\n      <th></th>\n      <th>id</th>\n      <th>Gender</th>\n      <th>Age</th>\n      <th>Height</th>\n      <th>Weight</th>\n      <th>family_history_with_overweight</th>\n      <th>FAVC</th>\n      <th>FCVC</th>\n      <th>NCP</th>\n      <th>CAEC</th>\n      <th>SMOKE</th>\n      <th>CH2O</th>\n      <th>SCC</th>\n      <th>FAF</th>\n      <th>TUE</th>\n      <th>CALC</th>\n      <th>MTRANS</th>\n    </tr>\n  </thead>\n  <tbody>\n    <tr>\n      <th>0</th>\n      <td>20758</td>\n      <td>Male</td>\n      <td>26.899886</td>\n      <td>1.848294</td>\n      <td>120.644178</td>\n      <td>yes</td>\n      <td>yes</td>\n      <td>2.938616</td>\n      <td>3.000000</td>\n      <td>Sometimes</td>\n      <td>no</td>\n      <td>2.825629</td>\n      <td>no</td>\n      <td>0.855400</td>\n      <td>0.000000</td>\n      <td>Sometimes</td>\n      <td>Public_Transportation</td>\n    </tr>\n    <tr>\n      <th>1</th>\n      <td>20759</td>\n      <td>Female</td>\n      <td>21.000000</td>\n      <td>1.600000</td>\n      <td>66.000000</td>\n      <td>yes</td>\n      <td>yes</td>\n      <td>2.000000</td>\n      <td>1.000000</td>\n      <td>Sometimes</td>\n      <td>no</td>\n      <td>3.000000</td>\n      <td>no</td>\n      <td>1.000000</td>\n      <td>0.000000</td>\n      <td>Sometimes</td>\n      <td>Public_Transportation</td>\n    </tr>\n    <tr>\n      <th>2</th>\n      <td>20760</td>\n      <td>Female</td>\n      <td>26.000000</td>\n      <td>1.643355</td>\n      <td>111.600553</td>\n      <td>yes</td>\n      <td>yes</td>\n      <td>3.000000</td>\n      <td>3.000000</td>\n      <td>Sometimes</td>\n      <td>no</td>\n      <td>2.621877</td>\n      <td>no</td>\n      <td>0.000000</td>\n      <td>0.250502</td>\n      <td>Sometimes</td>\n      <td>Public_Transportation</td>\n    </tr>\n    <tr>\n      <th>3</th>\n      <td>20761</td>\n      <td>Male</td>\n      <td>20.979254</td>\n      <td>1.553127</td>\n      <td>103.669116</td>\n      <td>yes</td>\n      <td>yes</td>\n      <td>2.000000</td>\n      <td>2.977909</td>\n      <td>Sometimes</td>\n      <td>no</td>\n      <td>2.786417</td>\n      <td>no</td>\n      <td>0.094851</td>\n      <td>0.000000</td>\n      <td>Sometimes</td>\n      <td>Public_Transportation</td>\n    </tr>\n    <tr>\n      <th>4</th>\n      <td>20762</td>\n      <td>Female</td>\n      <td>26.000000</td>\n      <td>1.627396</td>\n      <td>104.835346</td>\n      <td>yes</td>\n      <td>yes</td>\n      <td>3.000000</td>\n      <td>3.000000</td>\n      <td>Sometimes</td>\n      <td>no</td>\n      <td>2.653531</td>\n      <td>no</td>\n      <td>0.000000</td>\n      <td>0.741069</td>\n      <td>Sometimes</td>\n      <td>Public_Transportation</td>\n    </tr>\n  </tbody>\n</table>\n</div>"
          },
          "metadata": {}
        }
      ]
    },
    {
      "cell_type": "code",
      "source": [
        "Id=df_new['id']"
      ],
      "metadata": {
        "execution": {
          "iopub.status.busy": "2024-03-23T08:11:38.020941Z",
          "iopub.execute_input": "2024-03-23T08:11:38.02136Z",
          "iopub.status.idle": "2024-03-23T08:11:38.026896Z",
          "shell.execute_reply.started": "2024-03-23T08:11:38.021325Z",
          "shell.execute_reply": "2024-03-23T08:11:38.025697Z"
        },
        "trusted": true,
        "id": "ZZc-ibyhDm1P"
      },
      "execution_count": null,
      "outputs": []
    },
    {
      "cell_type": "code",
      "source": [
        "encoded_columns1 = pd.get_dummies(df_new[['Gender','family_history_with_overweight','FAVC','CAEC','SMOKE','SCC','CALC','MTRANS']],dtype=float)\n",
        "df_new.drop(['id','Gender','family_history_with_overweight','FAVC','CAEC','SMOKE','SCC','CALC','MTRANS'], axis=1, inplace=True)\n",
        "df_new= pd.concat([df_new, encoded_columns1], axis=1)"
      ],
      "metadata": {
        "execution": {
          "iopub.status.busy": "2024-03-23T08:11:41.772733Z",
          "iopub.execute_input": "2024-03-23T08:11:41.773145Z",
          "iopub.status.idle": "2024-03-23T08:11:41.812221Z",
          "shell.execute_reply.started": "2024-03-23T08:11:41.773115Z",
          "shell.execute_reply": "2024-03-23T08:11:41.810964Z"
        },
        "trusted": true,
        "id": "rSPJZ2u4Dm1P"
      },
      "execution_count": null,
      "outputs": []
    },
    {
      "cell_type": "code",
      "source": [
        "df_new.head()"
      ],
      "metadata": {
        "execution": {
          "iopub.status.busy": "2024-03-23T08:11:45.412074Z",
          "iopub.execute_input": "2024-03-23T08:11:45.412454Z",
          "iopub.status.idle": "2024-03-23T08:11:45.446185Z",
          "shell.execute_reply.started": "2024-03-23T08:11:45.412426Z",
          "shell.execute_reply": "2024-03-23T08:11:45.44483Z"
        },
        "trusted": true,
        "id": "FHzyQjauDm1P",
        "outputId": "30337419-b984-49f7-bf58-c9a2fac8a0bb"
      },
      "execution_count": null,
      "outputs": [
        {
          "execution_count": 43,
          "output_type": "execute_result",
          "data": {
            "text/plain": "         Age    Height      Weight      FCVC       NCP      CH2O       FAF  \\\n0  26.899886  1.848294  120.644178  2.938616  3.000000  2.825629  0.855400   \n1  21.000000  1.600000   66.000000  2.000000  1.000000  3.000000  1.000000   \n2  26.000000  1.643355  111.600553  3.000000  3.000000  2.621877  0.000000   \n3  20.979254  1.553127  103.669116  2.000000  2.977909  2.786417  0.094851   \n4  26.000000  1.627396  104.835346  3.000000  3.000000  2.653531  0.000000   \n\n        TUE  Gender_Female  Gender_Male  ...  SCC_yes  CALC_Always  \\\n0  0.000000            0.0          1.0  ...      0.0          0.0   \n1  0.000000            1.0          0.0  ...      0.0          0.0   \n2  0.250502            1.0          0.0  ...      0.0          0.0   \n3  0.000000            0.0          1.0  ...      0.0          0.0   \n4  0.741069            1.0          0.0  ...      0.0          0.0   \n\n   CALC_Frequently  CALC_Sometimes  CALC_no  MTRANS_Automobile  MTRANS_Bike  \\\n0              0.0             1.0      0.0                0.0          0.0   \n1              0.0             1.0      0.0                0.0          0.0   \n2              0.0             1.0      0.0                0.0          0.0   \n3              0.0             1.0      0.0                0.0          0.0   \n4              0.0             1.0      0.0                0.0          0.0   \n\n   MTRANS_Motorbike  MTRANS_Public_Transportation  MTRANS_Walking  \n0               0.0                           1.0             0.0  \n1               0.0                           1.0             0.0  \n2               0.0                           1.0             0.0  \n3               0.0                           1.0             0.0  \n4               0.0                           1.0             0.0  \n\n[5 rows x 31 columns]",
            "text/html": "<div>\n<style scoped>\n    .dataframe tbody tr th:only-of-type {\n        vertical-align: middle;\n    }\n\n    .dataframe tbody tr th {\n        vertical-align: top;\n    }\n\n    .dataframe thead th {\n        text-align: right;\n    }\n</style>\n<table border=\"1\" class=\"dataframe\">\n  <thead>\n    <tr style=\"text-align: right;\">\n      <th></th>\n      <th>Age</th>\n      <th>Height</th>\n      <th>Weight</th>\n      <th>FCVC</th>\n      <th>NCP</th>\n      <th>CH2O</th>\n      <th>FAF</th>\n      <th>TUE</th>\n      <th>Gender_Female</th>\n      <th>Gender_Male</th>\n      <th>...</th>\n      <th>SCC_yes</th>\n      <th>CALC_Always</th>\n      <th>CALC_Frequently</th>\n      <th>CALC_Sometimes</th>\n      <th>CALC_no</th>\n      <th>MTRANS_Automobile</th>\n      <th>MTRANS_Bike</th>\n      <th>MTRANS_Motorbike</th>\n      <th>MTRANS_Public_Transportation</th>\n      <th>MTRANS_Walking</th>\n    </tr>\n  </thead>\n  <tbody>\n    <tr>\n      <th>0</th>\n      <td>26.899886</td>\n      <td>1.848294</td>\n      <td>120.644178</td>\n      <td>2.938616</td>\n      <td>3.000000</td>\n      <td>2.825629</td>\n      <td>0.855400</td>\n      <td>0.000000</td>\n      <td>0.0</td>\n      <td>1.0</td>\n      <td>...</td>\n      <td>0.0</td>\n      <td>0.0</td>\n      <td>0.0</td>\n      <td>1.0</td>\n      <td>0.0</td>\n      <td>0.0</td>\n      <td>0.0</td>\n      <td>0.0</td>\n      <td>1.0</td>\n      <td>0.0</td>\n    </tr>\n    <tr>\n      <th>1</th>\n      <td>21.000000</td>\n      <td>1.600000</td>\n      <td>66.000000</td>\n      <td>2.000000</td>\n      <td>1.000000</td>\n      <td>3.000000</td>\n      <td>1.000000</td>\n      <td>0.000000</td>\n      <td>1.0</td>\n      <td>0.0</td>\n      <td>...</td>\n      <td>0.0</td>\n      <td>0.0</td>\n      <td>0.0</td>\n      <td>1.0</td>\n      <td>0.0</td>\n      <td>0.0</td>\n      <td>0.0</td>\n      <td>0.0</td>\n      <td>1.0</td>\n      <td>0.0</td>\n    </tr>\n    <tr>\n      <th>2</th>\n      <td>26.000000</td>\n      <td>1.643355</td>\n      <td>111.600553</td>\n      <td>3.000000</td>\n      <td>3.000000</td>\n      <td>2.621877</td>\n      <td>0.000000</td>\n      <td>0.250502</td>\n      <td>1.0</td>\n      <td>0.0</td>\n      <td>...</td>\n      <td>0.0</td>\n      <td>0.0</td>\n      <td>0.0</td>\n      <td>1.0</td>\n      <td>0.0</td>\n      <td>0.0</td>\n      <td>0.0</td>\n      <td>0.0</td>\n      <td>1.0</td>\n      <td>0.0</td>\n    </tr>\n    <tr>\n      <th>3</th>\n      <td>20.979254</td>\n      <td>1.553127</td>\n      <td>103.669116</td>\n      <td>2.000000</td>\n      <td>2.977909</td>\n      <td>2.786417</td>\n      <td>0.094851</td>\n      <td>0.000000</td>\n      <td>0.0</td>\n      <td>1.0</td>\n      <td>...</td>\n      <td>0.0</td>\n      <td>0.0</td>\n      <td>0.0</td>\n      <td>1.0</td>\n      <td>0.0</td>\n      <td>0.0</td>\n      <td>0.0</td>\n      <td>0.0</td>\n      <td>1.0</td>\n      <td>0.0</td>\n    </tr>\n    <tr>\n      <th>4</th>\n      <td>26.000000</td>\n      <td>1.627396</td>\n      <td>104.835346</td>\n      <td>3.000000</td>\n      <td>3.000000</td>\n      <td>2.653531</td>\n      <td>0.000000</td>\n      <td>0.741069</td>\n      <td>1.0</td>\n      <td>0.0</td>\n      <td>...</td>\n      <td>0.0</td>\n      <td>0.0</td>\n      <td>0.0</td>\n      <td>1.0</td>\n      <td>0.0</td>\n      <td>0.0</td>\n      <td>0.0</td>\n      <td>0.0</td>\n      <td>1.0</td>\n      <td>0.0</td>\n    </tr>\n  </tbody>\n</table>\n<p>5 rows × 31 columns</p>\n</div>"
          },
          "metadata": {}
        }
      ]
    },
    {
      "cell_type": "code",
      "source": [
        "df_new.dtypes"
      ],
      "metadata": {
        "execution": {
          "iopub.status.busy": "2024-03-23T08:11:48.813063Z",
          "iopub.execute_input": "2024-03-23T08:11:48.813954Z",
          "iopub.status.idle": "2024-03-23T08:11:48.823072Z",
          "shell.execute_reply.started": "2024-03-23T08:11:48.813917Z",
          "shell.execute_reply": "2024-03-23T08:11:48.821732Z"
        },
        "trusted": true,
        "id": "IGQPcTKwDm1P",
        "outputId": "b5b6900f-ec58-4f18-df70-a7f52c78865d"
      },
      "execution_count": null,
      "outputs": [
        {
          "execution_count": 44,
          "output_type": "execute_result",
          "data": {
            "text/plain": "Age                                   float64\nHeight                                float64\nWeight                                float64\nFCVC                                  float64\nNCP                                   float64\nCH2O                                  float64\nFAF                                   float64\nTUE                                   float64\nGender_Female                         float64\nGender_Male                           float64\nfamily_history_with_overweight_no     float64\nfamily_history_with_overweight_yes    float64\nFAVC_no                               float64\nFAVC_yes                              float64\nCAEC_Always                           float64\nCAEC_Frequently                       float64\nCAEC_Sometimes                        float64\nCAEC_no                               float64\nSMOKE_no                              float64\nSMOKE_yes                             float64\nSCC_no                                float64\nSCC_yes                               float64\nCALC_Always                           float64\nCALC_Frequently                       float64\nCALC_Sometimes                        float64\nCALC_no                               float64\nMTRANS_Automobile                     float64\nMTRANS_Bike                           float64\nMTRANS_Motorbike                      float64\nMTRANS_Public_Transportation          float64\nMTRANS_Walking                        float64\ndtype: object"
          },
          "metadata": {}
        }
      ]
    },
    {
      "cell_type": "code",
      "source": [
        "df_new=df_new[['Age','Height','Weight','FCVC','NCP','CH2O','FAF','TUE','Gender_Female','Gender_Male','family_history_with_overweight_no',\n",
        "'family_history_with_overweight_yes','FAVC_no','FAVC_yes','CAEC_Always','CAEC_Frequently','CAEC_Sometimes','CAEC_no',\n",
        "'SMOKE_no','SMOKE_yes','SCC_no','SCC_yes','CALC_Frequently','CALC_Sometimes','CALC_no','MTRANS_Automobile',\n",
        "'MTRANS_Bike','MTRANS_Motorbike','MTRANS_Public_Transportation','MTRANS_Walking']]"
      ],
      "metadata": {
        "execution": {
          "iopub.status.busy": "2024-03-23T08:11:55.966475Z",
          "iopub.execute_input": "2024-03-23T08:11:55.96691Z",
          "iopub.status.idle": "2024-03-23T08:11:55.976381Z",
          "shell.execute_reply.started": "2024-03-23T08:11:55.966871Z",
          "shell.execute_reply": "2024-03-23T08:11:55.975191Z"
        },
        "trusted": true,
        "id": "62ZOrOPUDm1Q"
      },
      "execution_count": null,
      "outputs": []
    },
    {
      "cell_type": "code",
      "source": [
        "unique_names[0]"
      ],
      "metadata": {
        "execution": {
          "iopub.status.busy": "2024-03-23T08:12:00.359754Z",
          "iopub.execute_input": "2024-03-23T08:12:00.360357Z",
          "iopub.status.idle": "2024-03-23T08:12:00.370343Z",
          "shell.execute_reply.started": "2024-03-23T08:12:00.360308Z",
          "shell.execute_reply": "2024-03-23T08:12:00.368639Z"
        },
        "trusted": true,
        "id": "mqQkKPBpDm1Q",
        "outputId": "b6472855-7cb4-4bc9-f9ca-495cedcde8e8"
      },
      "execution_count": null,
      "outputs": [
        {
          "execution_count": 46,
          "output_type": "execute_result",
          "data": {
            "text/plain": "'Overweight_Level_II'"
          },
          "metadata": {}
        }
      ]
    },
    {
      "cell_type": "code",
      "source": [
        "predictions = model.predict(df_new)"
      ],
      "metadata": {
        "execution": {
          "iopub.status.busy": "2024-03-23T08:12:03.373246Z",
          "iopub.execute_input": "2024-03-23T08:12:03.373664Z",
          "iopub.status.idle": "2024-03-23T08:12:04.352405Z",
          "shell.execute_reply.started": "2024-03-23T08:12:03.373632Z",
          "shell.execute_reply": "2024-03-23T08:12:04.351144Z"
        },
        "trusted": true,
        "id": "zcw4kPPyDm1f",
        "outputId": "9829b64b-41e7-465a-9331-787377ff3f18"
      },
      "execution_count": null,
      "outputs": [
        {
          "name": "stdout",
          "text": "433/433 [==============================] - 1s 1ms/step\n",
          "output_type": "stream"
        }
      ]
    },
    {
      "cell_type": "code",
      "source": [
        "predicted_classes_index = np.argmax(predictions, axis=1)"
      ],
      "metadata": {
        "execution": {
          "iopub.status.busy": "2024-03-23T08:12:07.730339Z",
          "iopub.execute_input": "2024-03-23T08:12:07.730719Z",
          "iopub.status.idle": "2024-03-23T08:12:07.735881Z",
          "shell.execute_reply.started": "2024-03-23T08:12:07.730689Z",
          "shell.execute_reply": "2024-03-23T08:12:07.734983Z"
        },
        "trusted": true,
        "id": "PcJq1SEWDm1g"
      },
      "execution_count": null,
      "outputs": []
    },
    {
      "cell_type": "code",
      "source": [
        "predictions = model.predict(df_new)\n",
        "print(predictions.shape)\n",
        "print(predictions)\n",
        "predicted_classes = [unique_names[i] for i in predicted_classes_index]\n",
        "\n",
        "# Save predictions and corresponding class names to a CSV file\n",
        "predictions_df = pd.DataFrame({'id': Id, 'Predicted_Class': predicted_classes})\n",
        "predictions_df.to_csv('predictions1.7.csv', index=False)\n"
      ],
      "metadata": {
        "execution": {
          "iopub.status.busy": "2024-03-23T08:12:18.402259Z",
          "iopub.execute_input": "2024-03-23T08:12:18.402692Z",
          "iopub.status.idle": "2024-03-23T08:12:19.271142Z",
          "shell.execute_reply.started": "2024-03-23T08:12:18.402662Z",
          "shell.execute_reply": "2024-03-23T08:12:19.269836Z"
        },
        "trusted": true,
        "id": "IIPQDPRrDm1g",
        "outputId": "6c669ecd-fc38-434d-abbd-24f4d668064b"
      },
      "execution_count": null,
      "outputs": [
        {
          "name": "stdout",
          "text": "433/433 [==============================] - 1s 1ms/step\n(13840, 7)\n[[0. 0. 0. ... 0. 0. 0.]\n [0. 0. 0. ... 0. 0. 0.]\n [0. 0. 0. ... 0. 0. 0.]\n ...\n [0. 0. 0. ... 0. 0. 0.]\n [0. 0. 0. ... 0. 0. 0.]\n [0. 0. 0. ... 0. 0. 0.]]\n",
          "output_type": "stream"
        }
      ]
    },
    {
      "cell_type": "code",
      "source": [],
      "metadata": {
        "execution": {
          "iopub.status.busy": "2024-02-24T08:37:01.354249Z",
          "iopub.execute_input": "2024-02-24T08:37:01.354849Z",
          "iopub.status.idle": "2024-02-24T08:37:01.359136Z",
          "shell.execute_reply.started": "2024-02-24T08:37:01.354819Z",
          "shell.execute_reply": "2024-02-24T08:37:01.357759Z"
        },
        "trusted": true,
        "id": "E4hdN-9dDm1h"
      },
      "execution_count": null,
      "outputs": []
    }
  ]
}